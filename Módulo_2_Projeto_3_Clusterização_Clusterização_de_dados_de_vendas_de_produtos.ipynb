{
  "cells": [
    {
      "cell_type": "markdown",
      "metadata": {
        "id": "ByhZOQpzkAPP"
      },
      "source": [
        "# Projeto 3 - Clusterização de dados de vendas de produtos\n",
        "## Wholesale customers Data Set - UCI"
      ]
    },
    {
      "cell_type": "markdown",
      "metadata": {
        "id": "jBmPXdJNkAPU"
      },
      "source": [
        "## Introdução"
      ]
    },
    {
      "cell_type": "markdown",
      "metadata": {
        "id": "V_ZWjyR5kAPV"
      },
      "source": [
        "O conjunto de dados de vendas esta localizado na plataforma UCI no seguinte link - https://archive.ics.uci.edu/ml/datasets/Wholesale+customers. Este é um conjunto de dados que não possui rotulo, o nosso desafio será agrupar essas vendas em grupos e avaliar estes grupos.\n",
        "\n",
        "Segue a descrição das variaveis:\n",
        "- FRESH: gastos anuais em produtos frescos\n",
        "- MILK: gastos anuais em produtos lácteos\n",
        "- GROCERY: gastos anuais em produtos de mercearia\n",
        "- FROZEN: gastos anuais em produtos congelados\n",
        "- DETERGENTS_PAPER: gastos anuais em detergentes e produtos de papel\n",
        "- DELICATESSEN: gastos anuais em produtos artesanais (queijos, vinhos, doces)\n",
        "- CHANNEL: origem do cliente - Horeca (Hotel/Restaurante/Café) (1) ou canais de varejo (2)\n",
        "- REGION: região do cliente Lisbon (1), Oporto (2) or Other Region (3)\n",
        "\n",
        "#### referencia: \n",
        "Abreu, N. (2011). Analise do perfil do cliente Recheio e desenvolvimento de um sistema promocional. Mestrado em Marketing, ISCTE-IUL, Lisbon"
      ]
    },
    {
      "cell_type": "markdown",
      "metadata": {
        "id": "iRoQHojLkAPW"
      },
      "source": [
        "# Sobre este projeto\n",
        "\n",
        "Neste projeto treine os conhecimentos aprendidos até o momento e que entenda algumas das dificuldades que pode ter quando for aplicar os mesmos. \n",
        "\n",
        "Os principais pontos que serão avaliados:\n",
        "\n",
        "- Levantamento de hipoteses\n",
        "- Manipulação de dados e criação de gráficos simples com o `Pandas`\n",
        "- Criar um modelo clusterização e justificar"
      ]
    },
    {
      "cell_type": "markdown",
      "metadata": {
        "id": "kIqzBwa4kAPX"
      },
      "source": [
        "# Preparação do ambiente\n",
        "\n",
        "- Acessem o link - https://archive.ics.uci.edu/ml/machine-learning-databases/00292/Wholesale%20customers%20data.csv e faça o download do conjunto de dados."
      ]
    },
    {
      "cell_type": "code",
      "source": [
        "!pip install scikit-learn-extra"
      ],
      "metadata": {
        "colab": {
          "base_uri": "https://localhost:8080/"
        },
        "id": "Asq-oeN6HhJh",
        "outputId": "c7528d07-225c-4914-a8e8-1b3efee09b7f"
      },
      "execution_count": null,
      "outputs": [
        {
          "output_type": "stream",
          "name": "stdout",
          "text": [
            "Collecting scikit-learn-extra\n",
            "  Downloading scikit_learn_extra-0.2.0-cp37-cp37m-manylinux2010_x86_64.whl (1.7 MB)\n",
            "\u001b[K     |████████████████████████████████| 1.7 MB 4.3 MB/s \n",
            "\u001b[?25hRequirement already satisfied: scipy>=0.19.1 in /usr/local/lib/python3.7/dist-packages (from scikit-learn-extra) (1.4.1)\n",
            "Requirement already satisfied: scikit-learn>=0.23.0 in /usr/local/lib/python3.7/dist-packages (from scikit-learn-extra) (1.0.2)\n",
            "Requirement already satisfied: numpy>=1.13.3 in /usr/local/lib/python3.7/dist-packages (from scikit-learn-extra) (1.21.6)\n",
            "Requirement already satisfied: threadpoolctl>=2.0.0 in /usr/local/lib/python3.7/dist-packages (from scikit-learn>=0.23.0->scikit-learn-extra) (3.1.0)\n",
            "Requirement already satisfied: joblib>=0.11 in /usr/local/lib/python3.7/dist-packages (from scikit-learn>=0.23.0->scikit-learn-extra) (1.1.0)\n",
            "Installing collected packages: scikit-learn-extra\n",
            "Successfully installed scikit-learn-extra-0.2.0\n"
          ]
        }
      ]
    },
    {
      "cell_type": "code",
      "source": [
        "# importando as bibliotecas necessárias:\n",
        "import pandas as pd\n",
        "import numpy as np\n",
        "\n",
        "import seaborn as sns\n",
        "import matplotlib.pyplot as plt\n",
        "\n",
        "# bibliotecas para padronizar os dados e buscar pelas variaveis mais representativas\n",
        "from sklearn.preprocessing import StandardScaler\n",
        "from sklearn.feature_selection import RFE\n",
        "\n",
        "#  preprocessamento e modelo K-Means\n",
        "from sklearn.preprocessing import StandardScaler\n",
        "from sklearn.cluster import KMeans\n",
        "\n",
        "# modelo Kmedoids\n",
        "from sklearn_extra.cluster import KMedoids\n",
        "\n",
        "# métricas\n",
        "from sklearn.metrics import silhouette_score\n",
        "from sklearn.metrics.cluster import adjusted_rand_score"
      ],
      "metadata": {
        "id": "45qcRFSExbUu"
      },
      "execution_count": null,
      "outputs": []
    },
    {
      "cell_type": "markdown",
      "source": [
        "Criando dois dataframes, o X para fazermos alguns testes e o SALE para manter original até o final do trabalho:"
      ],
      "metadata": {
        "id": "p1gF4iH1qVgX"
      }
    },
    {
      "cell_type": "code",
      "source": [
        "sale = pd.read_csv('Wholesale customers data.csv')\n",
        "X = pd.read_csv('Wholesale customers data.csv')"
      ],
      "metadata": {
        "id": "oQs2aYad6z-l"
      },
      "execution_count": null,
      "outputs": []
    },
    {
      "cell_type": "markdown",
      "source": [
        "Vizualisando os dados:\n"
      ],
      "metadata": {
        "id": "xTEfjJESbfY0"
      }
    },
    {
      "cell_type": "code",
      "source": [
        "sale.head()"
      ],
      "metadata": {
        "colab": {
          "base_uri": "https://localhost:8080/",
          "height": 206
        },
        "id": "lqxIpdET7EKT",
        "outputId": "cf91ac69-7c22-4c4c-aabe-b2315603d168"
      },
      "execution_count": null,
      "outputs": [
        {
          "output_type": "execute_result",
          "data": {
            "text/plain": [
              "   Channel  Region  Fresh  Milk  Grocery  Frozen  Detergents_Paper  Delicassen\n",
              "0        2       3  12669  9656     7561     214              2674        1338\n",
              "1        2       3   7057  9810     9568    1762              3293        1776\n",
              "2        2       3   6353  8808     7684    2405              3516        7844\n",
              "3        1       3  13265  1196     4221    6404               507        1788\n",
              "4        2       3  22615  5410     7198    3915              1777        5185"
            ],
            "text/html": [
              "\n",
              "  <div id=\"df-b928312d-0126-4943-a739-902aa37b61ce\">\n",
              "    <div class=\"colab-df-container\">\n",
              "      <div>\n",
              "<style scoped>\n",
              "    .dataframe tbody tr th:only-of-type {\n",
              "        vertical-align: middle;\n",
              "    }\n",
              "\n",
              "    .dataframe tbody tr th {\n",
              "        vertical-align: top;\n",
              "    }\n",
              "\n",
              "    .dataframe thead th {\n",
              "        text-align: right;\n",
              "    }\n",
              "</style>\n",
              "<table border=\"1\" class=\"dataframe\">\n",
              "  <thead>\n",
              "    <tr style=\"text-align: right;\">\n",
              "      <th></th>\n",
              "      <th>Channel</th>\n",
              "      <th>Region</th>\n",
              "      <th>Fresh</th>\n",
              "      <th>Milk</th>\n",
              "      <th>Grocery</th>\n",
              "      <th>Frozen</th>\n",
              "      <th>Detergents_Paper</th>\n",
              "      <th>Delicassen</th>\n",
              "    </tr>\n",
              "  </thead>\n",
              "  <tbody>\n",
              "    <tr>\n",
              "      <th>0</th>\n",
              "      <td>2</td>\n",
              "      <td>3</td>\n",
              "      <td>12669</td>\n",
              "      <td>9656</td>\n",
              "      <td>7561</td>\n",
              "      <td>214</td>\n",
              "      <td>2674</td>\n",
              "      <td>1338</td>\n",
              "    </tr>\n",
              "    <tr>\n",
              "      <th>1</th>\n",
              "      <td>2</td>\n",
              "      <td>3</td>\n",
              "      <td>7057</td>\n",
              "      <td>9810</td>\n",
              "      <td>9568</td>\n",
              "      <td>1762</td>\n",
              "      <td>3293</td>\n",
              "      <td>1776</td>\n",
              "    </tr>\n",
              "    <tr>\n",
              "      <th>2</th>\n",
              "      <td>2</td>\n",
              "      <td>3</td>\n",
              "      <td>6353</td>\n",
              "      <td>8808</td>\n",
              "      <td>7684</td>\n",
              "      <td>2405</td>\n",
              "      <td>3516</td>\n",
              "      <td>7844</td>\n",
              "    </tr>\n",
              "    <tr>\n",
              "      <th>3</th>\n",
              "      <td>1</td>\n",
              "      <td>3</td>\n",
              "      <td>13265</td>\n",
              "      <td>1196</td>\n",
              "      <td>4221</td>\n",
              "      <td>6404</td>\n",
              "      <td>507</td>\n",
              "      <td>1788</td>\n",
              "    </tr>\n",
              "    <tr>\n",
              "      <th>4</th>\n",
              "      <td>2</td>\n",
              "      <td>3</td>\n",
              "      <td>22615</td>\n",
              "      <td>5410</td>\n",
              "      <td>7198</td>\n",
              "      <td>3915</td>\n",
              "      <td>1777</td>\n",
              "      <td>5185</td>\n",
              "    </tr>\n",
              "  </tbody>\n",
              "</table>\n",
              "</div>\n",
              "      <button class=\"colab-df-convert\" onclick=\"convertToInteractive('df-b928312d-0126-4943-a739-902aa37b61ce')\"\n",
              "              title=\"Convert this dataframe to an interactive table.\"\n",
              "              style=\"display:none;\">\n",
              "        \n",
              "  <svg xmlns=\"http://www.w3.org/2000/svg\" height=\"24px\"viewBox=\"0 0 24 24\"\n",
              "       width=\"24px\">\n",
              "    <path d=\"M0 0h24v24H0V0z\" fill=\"none\"/>\n",
              "    <path d=\"M18.56 5.44l.94 2.06.94-2.06 2.06-.94-2.06-.94-.94-2.06-.94 2.06-2.06.94zm-11 1L8.5 8.5l.94-2.06 2.06-.94-2.06-.94L8.5 2.5l-.94 2.06-2.06.94zm10 10l.94 2.06.94-2.06 2.06-.94-2.06-.94-.94-2.06-.94 2.06-2.06.94z\"/><path d=\"M17.41 7.96l-1.37-1.37c-.4-.4-.92-.59-1.43-.59-.52 0-1.04.2-1.43.59L10.3 9.45l-7.72 7.72c-.78.78-.78 2.05 0 2.83L4 21.41c.39.39.9.59 1.41.59.51 0 1.02-.2 1.41-.59l7.78-7.78 2.81-2.81c.8-.78.8-2.07 0-2.86zM5.41 20L4 18.59l7.72-7.72 1.47 1.35L5.41 20z\"/>\n",
              "  </svg>\n",
              "      </button>\n",
              "      \n",
              "  <style>\n",
              "    .colab-df-container {\n",
              "      display:flex;\n",
              "      flex-wrap:wrap;\n",
              "      gap: 12px;\n",
              "    }\n",
              "\n",
              "    .colab-df-convert {\n",
              "      background-color: #E8F0FE;\n",
              "      border: none;\n",
              "      border-radius: 50%;\n",
              "      cursor: pointer;\n",
              "      display: none;\n",
              "      fill: #1967D2;\n",
              "      height: 32px;\n",
              "      padding: 0 0 0 0;\n",
              "      width: 32px;\n",
              "    }\n",
              "\n",
              "    .colab-df-convert:hover {\n",
              "      background-color: #E2EBFA;\n",
              "      box-shadow: 0px 1px 2px rgba(60, 64, 67, 0.3), 0px 1px 3px 1px rgba(60, 64, 67, 0.15);\n",
              "      fill: #174EA6;\n",
              "    }\n",
              "\n",
              "    [theme=dark] .colab-df-convert {\n",
              "      background-color: #3B4455;\n",
              "      fill: #D2E3FC;\n",
              "    }\n",
              "\n",
              "    [theme=dark] .colab-df-convert:hover {\n",
              "      background-color: #434B5C;\n",
              "      box-shadow: 0px 1px 3px 1px rgba(0, 0, 0, 0.15);\n",
              "      filter: drop-shadow(0px 1px 2px rgba(0, 0, 0, 0.3));\n",
              "      fill: #FFFFFF;\n",
              "    }\n",
              "  </style>\n",
              "\n",
              "      <script>\n",
              "        const buttonEl =\n",
              "          document.querySelector('#df-b928312d-0126-4943-a739-902aa37b61ce button.colab-df-convert');\n",
              "        buttonEl.style.display =\n",
              "          google.colab.kernel.accessAllowed ? 'block' : 'none';\n",
              "\n",
              "        async function convertToInteractive(key) {\n",
              "          const element = document.querySelector('#df-b928312d-0126-4943-a739-902aa37b61ce');\n",
              "          const dataTable =\n",
              "            await google.colab.kernel.invokeFunction('convertToInteractive',\n",
              "                                                     [key], {});\n",
              "          if (!dataTable) return;\n",
              "\n",
              "          const docLinkHtml = 'Like what you see? Visit the ' +\n",
              "            '<a target=\"_blank\" href=https://colab.research.google.com/notebooks/data_table.ipynb>data table notebook</a>'\n",
              "            + ' to learn more about interactive tables.';\n",
              "          element.innerHTML = '';\n",
              "          dataTable['output_type'] = 'display_data';\n",
              "          await google.colab.output.renderOutput(dataTable, element);\n",
              "          const docLink = document.createElement('div');\n",
              "          docLink.innerHTML = docLinkHtml;\n",
              "          element.appendChild(docLink);\n",
              "        }\n",
              "      </script>\n",
              "    </div>\n",
              "  </div>\n",
              "  "
            ]
          },
          "metadata": {},
          "execution_count": 4
        }
      ]
    },
    {
      "cell_type": "markdown",
      "source": [
        "Vendo o número de linhas e de colunas:"
      ],
      "metadata": {
        "id": "aFwEy_G9bqeI"
      }
    },
    {
      "cell_type": "code",
      "source": [
        "sale.shape"
      ],
      "metadata": {
        "colab": {
          "base_uri": "https://localhost:8080/"
        },
        "id": "nq6NhwvO7aXk",
        "outputId": "f2cf8d1d-ff83-4f89-cf8c-1f7b187a0f2a"
      },
      "execution_count": null,
      "outputs": [
        {
          "output_type": "execute_result",
          "data": {
            "text/plain": [
              "(440, 8)"
            ]
          },
          "metadata": {},
          "execution_count": 5
        }
      ]
    },
    {
      "cell_type": "markdown",
      "source": [
        "Analisando algumas informações importantes dos dados:"
      ],
      "metadata": {
        "id": "C7dIVolNbyDM"
      }
    },
    {
      "cell_type": "code",
      "source": [
        "sale.info()"
      ],
      "metadata": {
        "colab": {
          "base_uri": "https://localhost:8080/"
        },
        "id": "xJjIv99l7sf_",
        "outputId": "d059623f-797e-4486-ba41-5302168244ce"
      },
      "execution_count": null,
      "outputs": [
        {
          "output_type": "stream",
          "name": "stdout",
          "text": [
            "<class 'pandas.core.frame.DataFrame'>\n",
            "RangeIndex: 440 entries, 0 to 439\n",
            "Data columns (total 8 columns):\n",
            " #   Column            Non-Null Count  Dtype\n",
            "---  ------            --------------  -----\n",
            " 0   Channel           440 non-null    int64\n",
            " 1   Region            440 non-null    int64\n",
            " 2   Fresh             440 non-null    int64\n",
            " 3   Milk              440 non-null    int64\n",
            " 4   Grocery           440 non-null    int64\n",
            " 5   Frozen            440 non-null    int64\n",
            " 6   Detergents_Paper  440 non-null    int64\n",
            " 7   Delicassen        440 non-null    int64\n",
            "dtypes: int64(8)\n",
            "memory usage: 27.6 KB\n"
          ]
        }
      ]
    },
    {
      "cell_type": "markdown",
      "source": [
        "Podemos ver que todos os dados estão como \"int\" e não temos nenhum valor nulo presente em nossa base."
      ],
      "metadata": {
        "id": "9o44Ic7I72FY"
      }
    },
    {
      "cell_type": "markdown",
      "source": [
        "**Trabalhando com os dados:**\n",
        "* Agora rodaremos um código para olhar mais de perto  os dados das colunas"
      ],
      "metadata": {
        "id": "VtlSKU2Sq1BM"
      }
    },
    {
      "cell_type": "code",
      "source": [
        "print(\"Formato:\", sale.shape)\n",
        "print(\"\\n\\n\\n\")\n",
        "for coluna in sale.columns:\n",
        "  print(coluna + \": \")\n",
        "  print(sale[coluna].unique())\n",
        "  print(sale[coluna].describe())\n",
        "  display (sale[sale[coluna].isnull()])\n",
        "  print(\"\\n\\n\\n\")"
      ],
      "metadata": {
        "id": "4H64gwIwK2_U"
      },
      "execution_count": null,
      "outputs": []
    },
    {
      "cell_type": "markdown",
      "source": [
        "É interessante olhar dado a dado, ver todos os valores que cada variável contém e também ter um visão geral estatística delas, quantidade, média, desvio padrão, valor mínimo, 1º quartil, mediana, 3º quartil e valor máximo."
      ],
      "metadata": {
        "id": "qAzf1Z_bqiLH"
      }
    },
    {
      "cell_type": "markdown",
      "source": [
        "Olhando de perto as colunas \"Channel\" e \"Região\":"
      ],
      "metadata": {
        "id": "iWQGk_Y1t7DM"
      }
    },
    {
      "cell_type": "code",
      "source": [
        "sales1 = sale['Channel'].value_counts()\n",
        "sales2 = sale['Region'].value_counts()\n"
      ],
      "metadata": {
        "id": "TcxBLxr20cNc"
      },
      "execution_count": null,
      "outputs": []
    },
    {
      "cell_type": "code",
      "source": [
        "plt.figure(figsize=(12,4))\n",
        "\n",
        "plt.subplot(1, 2, 1) \n",
        "plt.pie(sales1 , labels = ['Hotel/Restaurante/Café','canais de varejo']) \n",
        "plt.title('CHANNEL', fontsize=12) \n",
        "\n",
        "plt.subplot(1, 2, 2) \n",
        "plt.pie(sales2 , labels = ['Other Region','Lisbon','Oporto'])  \n",
        "plt.title('REGION', fontsize=12)\n",
        "plt.show()  "
      ],
      "metadata": {
        "colab": {
          "base_uri": "https://localhost:8080/",
          "height": 264
        },
        "id": "CNiyuydm4vgE",
        "outputId": "7139691b-6af6-406a-8b9c-cff02eb55dc0"
      },
      "execution_count": null,
      "outputs": [
        {
          "output_type": "display_data",
          "data": {
            "text/plain": [
              "<Figure size 864x288 with 2 Axes>"
            ],
            "image/png": "[encoded data removed]"
          },
          "metadata": {}
        }
      ]
    },
    {
      "cell_type": "markdown",
      "source": [
        "Podemos notar que os valores não estão equilibrados, isso pode prejudicar o nosso modelo. No caso da variável CHANNEL temos muitos mais clientes de origem do (Hotel/Restaurante/Café) e no Caso da variável REGION, muito mais casos de outra região."
      ],
      "metadata": {
        "id": "4CVJuxH_AhrD"
      }
    },
    {
      "cell_type": "markdown",
      "source": [
        "Para entender melhor como essas variáveis se relacionam, vamos plotar gráficos de dispersão entre elas:"
      ],
      "metadata": {
        "id": "yeRyKziGq8NI"
      }
    },
    {
      "cell_type": "code",
      "source": [
        "plt.figure(figsize=(20,5))\n",
        "\n",
        "plt.subplot(1, 5, 1) \n",
        "plt.scatter(sale.loc[:,'Fresh'], sale.loc[:,'Milk'],s=10)\n",
        "plt.title('Fresh x milk'.upper(), fontsize=12) \n",
        "\n",
        "plt.subplot(1, 5, 2) \n",
        "plt.scatter(sale.loc[:,'Fresh'], sale.loc[:,'Grocery'],s=10)\n",
        "plt.title('Fresh x Grocery'.upper(), fontsize=12)  \n",
        "\n",
        "plt.subplot(1, 5, 3) \n",
        "plt.scatter(sale.loc[:,'Fresh'], sale.loc[:,'Frozen'],s=10)\n",
        "plt.title('Fresh x Frozen'.upper(), fontsize=12) \n",
        "\n",
        "plt.subplot(1, 5, 4) \n",
        "plt.scatter(sale.loc[:,'Fresh'], sale.loc[:,'Detergents_Paper'],s=10)\n",
        "plt.title('Fresh x Detergents_Paper'.upper(), fontsize=12)\n",
        "\n",
        "plt.subplot(1, 5, 5) \n",
        "plt.scatter(sale.loc[:,'Fresh'], sale.loc[:,'Delicassen'],s=10)\n",
        "plt.title('Fresh x Delicassen'.upper(), fontsize=12)"
      ],
      "metadata": {
        "colab": {
          "base_uri": "https://localhost:8080/",
          "height": 354
        },
        "id": "b0CF-_HdAc5G",
        "outputId": "2c1d0c32-5f0c-4319-94ce-5e93c8a81be3"
      },
      "execution_count": null,
      "outputs": [
        {
          "output_type": "execute_result",
          "data": {
            "text/plain": [
              "Text(0.5, 1.0, 'FRESH X DELICASSEN')"
            ]
          },
          "metadata": {},
          "execution_count": 10
        },
        {
          "output_type": "display_data",
          "data": {
            "text/plain": [
              "<Figure size 1440x360 with 5 Axes>"
            ],
            "image/png": "[encoded data removed]"
          },
          "metadata": {
            "needs_background": "light"
          }
        }
      ]
    },
    {
      "cell_type": "markdown",
      "source": [
        "Temos pouca relação entre todos estes dados, o dois únicos que mostram ter uma ralação maior é entre FRESH e FROZEN."
      ],
      "metadata": {
        "id": "zOGi5zR5FET8"
      }
    },
    {
      "cell_type": "code",
      "source": [
        "plt.figure(figsize=(16,5))\n",
        "\n",
        "plt.subplot(1, 4, 1) \n",
        "plt.scatter(sale.loc[:,'Milk'], sale.loc[:,'Grocery'],s=10)\n",
        "plt.title('Milk x Grocery'.upper(), fontsize=12)  \n",
        "\n",
        "plt.subplot(1, 4, 2) \n",
        "plt.scatter(sale.loc[:,'Milk'], sale.loc[:,'Frozen'],s=10)\n",
        "plt.title('Milk x Frozen'.upper(), fontsize=12) \n",
        "\n",
        "plt.subplot(1, 4, 3) \n",
        "plt.scatter(sale.loc[:,'Milk'], sale.loc[:,'Detergents_Paper'],s=10)\n",
        "plt.title('Milk x Detergents_Paper'.upper(), fontsize=12)\n",
        "\n",
        "plt.subplot(1, 4, 4) \n",
        "plt.scatter(sale.loc[:,'Milk'], sale.loc[:,'Delicassen'],s=10)\n",
        "plt.title('Milk x Delicassen'.upper(), fontsize=12)"
      ],
      "metadata": {
        "colab": {
          "base_uri": "https://localhost:8080/",
          "height": 354
        },
        "id": "-5plSMi3Dg_I",
        "outputId": "ced1668c-3d03-4b16-e49e-72e8c6ba0345"
      },
      "execution_count": null,
      "outputs": [
        {
          "output_type": "execute_result",
          "data": {
            "text/plain": [
              "Text(0.5, 1.0, 'MILK X DELICASSEN')"
            ]
          },
          "metadata": {},
          "execution_count": 11
        },
        {
          "output_type": "display_data",
          "data": {
            "text/plain": [
              "<Figure size 1152x360 with 4 Axes>"
            ],
            "image/png": "[encoded data removed]"
          },
          "metadata": {
            "needs_background": "light"
          }
        }
      ]
    },
    {
      "cell_type": "markdown",
      "source": [
        "Aqui já conseguimos ver que existe mais relações, entre MILK e GROCERY e entre MILK e DETERGENTS_PAPER"
      ],
      "metadata": {
        "id": "Q4VH3jqpFSnR"
      }
    },
    {
      "cell_type": "code",
      "source": [
        "plt.figure(figsize=(12,5))\n",
        "\n",
        "plt.subplot(1, 3, 1) \n",
        "plt.scatter(sale.loc[:,'Grocery'], sale.loc[:,'Frozen'],s=10)\n",
        "plt.title('Grocery x Frozen'.upper(), fontsize=12) \n",
        "\n",
        "plt.subplot(1, 3, 2) \n",
        "plt.scatter(sale.loc[:,'Grocery'], sale.loc[:,'Detergents_Paper'],s=10)\n",
        "plt.title('Grocery x Detergents_Paper'.upper(), fontsize=12)\n",
        "\n",
        "plt.subplot(1, 3, 3) \n",
        "plt.scatter(sale.loc[:,'Grocery'], sale.loc[:,'Delicassen'],s=10)\n",
        "plt.title('Grocery x Delicassen'.upper(), fontsize=12)"
      ],
      "metadata": {
        "colab": {
          "base_uri": "https://localhost:8080/",
          "height": 354
        },
        "id": "0T61Lsi9DI7J",
        "outputId": "bab8eb5a-e887-471a-9763-d2a66e2dc3f9"
      },
      "execution_count": null,
      "outputs": [
        {
          "output_type": "execute_result",
          "data": {
            "text/plain": [
              "Text(0.5, 1.0, 'GROCERY X DELICASSEN')"
            ]
          },
          "metadata": {},
          "execution_count": 12
        },
        {
          "output_type": "display_data",
          "data": {
            "text/plain": [
              "<Figure size 864x360 with 3 Axes>"
            ],
            "image/png": "[encoded data removed]"
          },
          "metadata": {
            "needs_background": "light"
          }
        }
      ]
    },
    {
      "cell_type": "markdown",
      "source": [
        "Temos uma grande relação entre GROCERY e DETERGENTS_PAPER"
      ],
      "metadata": {
        "id": "hPmHeNLxFfWh"
      }
    },
    {
      "cell_type": "code",
      "source": [
        "plt.figure(figsize=(8,5))\n",
        "\n",
        "plt.subplot(1, 2, 1)\n",
        "plt.scatter(sale.loc[:,'Frozen'], sale.loc[:,'Detergents_Paper'],s=10)\n",
        "plt.title('Frozen x Detergents_Paper'.upper(), fontsize=12)\n",
        "\n",
        "plt.subplot(1, 2, 2) \n",
        "plt.scatter(sale.loc[:,'Frozen'], sale.loc[:,'Delicassen'],s=10)\n",
        "plt.title('Frozen x Delicassen'.upper(), fontsize=12)"
      ],
      "metadata": {
        "colab": {
          "base_uri": "https://localhost:8080/",
          "height": 354
        },
        "id": "4uN0z-F2EK-X",
        "outputId": "256d6181-7d58-4f9e-9457-e17c187941a3"
      },
      "execution_count": null,
      "outputs": [
        {
          "output_type": "execute_result",
          "data": {
            "text/plain": [
              "Text(0.5, 1.0, 'FROZEN X DELICASSEN')"
            ]
          },
          "metadata": {},
          "execution_count": 13
        },
        {
          "output_type": "display_data",
          "data": {
            "text/plain": [
              "<Figure size 576x360 with 2 Axes>"
            ],
            "image/png": "[encoded data removed]"
          },
          "metadata": {
            "needs_background": "light"
          }
        }
      ]
    },
    {
      "cell_type": "markdown",
      "source": [
        "Aqui pouca relação também, um pouquinho entre FROZEM e DELICASSEN"
      ],
      "metadata": {
        "id": "kJkYwrujFm72"
      }
    },
    {
      "cell_type": "code",
      "source": [
        "plt.figure(figsize=(4,5)) \n",
        "plt.scatter(sale.loc[:,'Detergents_Paper'], sale.loc[:,'Delicassen'],s=10)\n",
        "plt.title('Detergents_Paper x Delicassen'.upper(), fontsize=12)"
      ],
      "metadata": {
        "colab": {
          "base_uri": "https://localhost:8080/",
          "height": 354
        },
        "id": "ITPPkA6IEXrp",
        "outputId": "b7f0cb65-fe8d-41d6-e9ca-1cbbd7aaa8c8"
      },
      "execution_count": null,
      "outputs": [
        {
          "output_type": "execute_result",
          "data": {
            "text/plain": [
              "Text(0.5, 1.0, 'DETERGENTS_PAPER X DELICASSEN')"
            ]
          },
          "metadata": {},
          "execution_count": 14
        },
        {
          "output_type": "display_data",
          "data": {
            "text/plain": [
              "<Figure size 288x360 with 1 Axes>"
            ],
            "image/png": "[encoded data removed]"
          },
          "metadata": {
            "needs_background": "light"
          }
        }
      ]
    },
    {
      "cell_type": "markdown",
      "source": [
        "E por último uma baixa relação também"
      ],
      "metadata": {
        "id": "HNNv4_ivFt51"
      }
    },
    {
      "cell_type": "markdown",
      "source": [
        "- Estas comparações e estes gráficos nos ajudaram a entender quais variáveis poderíamos utilizar na criação do nosso modelo, tentamos, olhando para os gráficos, encontrar as variáveis que tem mais relação. No caso achamos melhor trabalhar com \"MILK\", \"GROCERY\" e \"DETERGENTS_PAPER\". \n",
        "- Para efeito de aprendizagem foram feitos testes de agrupamento, com o método Kmedias, somente com estas 3 variáveis, porém o resultado não foi satisfatório e foi preferível continuar com o dataset original por enquanto."
      ],
      "metadata": {
        "id": "Pfohaf1wFySG"
      }
    },
    {
      "cell_type": "markdown",
      "source": [
        "**Trabalhando com outliers** \n",
        "- Vamos aplicar a retirada dos outliers das 3 variáveis que tinhamos selecionado anteriormente, \"MILK\", \"GROCERY\" e \"DETERGENTS_PAPER\".\n",
        "- Para a retirada dos outliers vamos utilizar o método do desvio padrão, no nosso caso vamos retirar os valores que sejam maiores que a média somados com o desvio padrão multiplicado por 3.\n",
        "- Utilizamos a multiplicação 3 pelo fato de que não queremos retirar muitos valores, temos um conjunto pequeno de dados para treinar o modelo."
      ],
      "metadata": {
        "id": "AMESXsAJmRmO"
      }
    },
    {
      "cell_type": "code",
      "source": [
        "def outlier(X,colum):\n",
        "\n",
        "  desvp = X[colum].std()\n",
        "  media = X[colum].mean()\n",
        "\n",
        "  print(\"Media = %.2f, Desvio padrao = %.2f\" % (media, desvp))\n",
        "\n",
        "  # apenas outliers segundo std\n",
        "  dataout_std = X[(X[colum] < media - (desvp*3)) | (X[colum] > media + (desvp*3))]\n",
        "  print(\"Outliers:\", len(dataout_std))\n",
        "\n",
        "  # apenas inliers segundo std\n",
        "  dc_std = X[(X[colum] >= media - (desvp*3)) & (X[colum] <= media + (desvp*3))]\n",
        "  print(\"Inliers:\", len(dc_std))\n",
        "\n",
        "  plt.figure(figsize=(12,4))\n",
        "  plt.subplot(131); X.boxplot([colum]); plt.title('Original')\n",
        "  plt.subplot(132); dataout_std.boxplot([colum]); plt.title('Sem Outliers')\n",
        "  plt.subplot(133); dc_std.boxplot([colum]); plt.title('Nova Análise')\n",
        "  plt.show()\n"
      ],
      "metadata": {
        "id": "JZ1qmHO3mTh-"
      },
      "execution_count": null,
      "outputs": []
    },
    {
      "cell_type": "code",
      "source": [
        "outlier(sale,\"Milk\")"
      ],
      "metadata": {
        "colab": {
          "base_uri": "https://localhost:8080/",
          "height": 335
        },
        "id": "cjDszWDioMnN",
        "outputId": "0cbdec7c-70b8-440b-d6a6-25aa2b2e41af"
      },
      "execution_count": null,
      "outputs": [
        {
          "output_type": "stream",
          "name": "stdout",
          "text": [
            "Media = 5796.27, Desvio padrao = 7380.38\n",
            "Outliers: 9\n",
            "Inliers: 431\n"
          ]
        },
        {
          "output_type": "display_data",
          "data": {
            "text/plain": [
              "<Figure size 864x288 with 3 Axes>"
            ],
            "image/png": "[encoded data removed]"
          },
          "metadata": {
            "needs_background": "light"
          }
        }
      ]
    },
    {
      "cell_type": "code",
      "source": [
        "sale[sale['Milk'] > (sale['Milk'].mean() + sale['Milk'].std()*4)]\n",
        "\n",
        "# foi comentada esta parte porque preferimos seguir o trabalho com todos os dados, também por ser um conjunto de dados pequeno\n",
        "#sale = sale.drop([23,47,61,85,86,183],axis=0)"
      ],
      "metadata": {
        "id": "AVbrSnY3o08f",
        "colab": {
          "base_uri": "https://localhost:8080/",
          "height": 237
        },
        "outputId": "14d3afc2-fd9d-4d91-ce1c-ebd1e7bcfabb"
      },
      "execution_count": null,
      "outputs": [
        {
          "output_type": "execute_result",
          "data": {
            "text/plain": [
              "     Channel  Region  Fresh   Milk  Grocery  Frozen  Detergents_Paper  \\\n",
              "23         2       3  26373  36423    22019    5154              4337   \n",
              "47         2       3  44466  54259    55571    7782             24171   \n",
              "61         2       3  35942  38369    59598    3254             26701   \n",
              "85         2       3  16117  46197    92780    1026             40827   \n",
              "86         2       3  22925  73498    32114     987             20070   \n",
              "183        1       3  36847  43950    20170   36534               239   \n",
              "\n",
              "     Delicassen  \n",
              "23        16523  \n",
              "47         6465  \n",
              "61         2017  \n",
              "85         2944  \n",
              "86          903  \n",
              "183       47943  "
            ],
            "text/html": [
              "\n",
              "  <div id=\"df-8d7b24d2-2a38-453b-b339-84b882093bbb\">\n",
              "    <div class=\"colab-df-container\">\n",
              "      <div>\n",
              "<style scoped>\n",
              "    .dataframe tbody tr th:only-of-type {\n",
              "        vertical-align: middle;\n",
              "    }\n",
              "\n",
              "    .dataframe tbody tr th {\n",
              "        vertical-align: top;\n",
              "    }\n",
              "\n",
              "    .dataframe thead th {\n",
              "        text-align: right;\n",
              "    }\n",
              "</style>\n",
              "<table border=\"1\" class=\"dataframe\">\n",
              "  <thead>\n",
              "    <tr style=\"text-align: right;\">\n",
              "      <th></th>\n",
              "      <th>Channel</th>\n",
              "      <th>Region</th>\n",
              "      <th>Fresh</th>\n",
              "      <th>Milk</th>\n",
              "      <th>Grocery</th>\n",
              "      <th>Frozen</th>\n",
              "      <th>Detergents_Paper</th>\n",
              "      <th>Delicassen</th>\n",
              "    </tr>\n",
              "  </thead>\n",
              "  <tbody>\n",
              "    <tr>\n",
              "      <th>23</th>\n",
              "      <td>2</td>\n",
              "      <td>3</td>\n",
              "      <td>26373</td>\n",
              "      <td>36423</td>\n",
              "      <td>22019</td>\n",
              "      <td>5154</td>\n",
              "      <td>4337</td>\n",
              "      <td>16523</td>\n",
              "    </tr>\n",
              "    <tr>\n",
              "      <th>47</th>\n",
              "      <td>2</td>\n",
              "      <td>3</td>\n",
              "      <td>44466</td>\n",
              "      <td>54259</td>\n",
              "      <td>55571</td>\n",
              "      <td>7782</td>\n",
              "      <td>24171</td>\n",
              "      <td>6465</td>\n",
              "    </tr>\n",
              "    <tr>\n",
              "      <th>61</th>\n",
              "      <td>2</td>\n",
              "      <td>3</td>\n",
              "      <td>35942</td>\n",
              "      <td>38369</td>\n",
              "      <td>59598</td>\n",
              "      <td>3254</td>\n",
              "      <td>26701</td>\n",
              "      <td>2017</td>\n",
              "    </tr>\n",
              "    <tr>\n",
              "      <th>85</th>\n",
              "      <td>2</td>\n",
              "      <td>3</td>\n",
              "      <td>16117</td>\n",
              "      <td>46197</td>\n",
              "      <td>92780</td>\n",
              "      <td>1026</td>\n",
              "      <td>40827</td>\n",
              "      <td>2944</td>\n",
              "    </tr>\n",
              "    <tr>\n",
              "      <th>86</th>\n",
              "      <td>2</td>\n",
              "      <td>3</td>\n",
              "      <td>22925</td>\n",
              "      <td>73498</td>\n",
              "      <td>32114</td>\n",
              "      <td>987</td>\n",
              "      <td>20070</td>\n",
              "      <td>903</td>\n",
              "    </tr>\n",
              "    <tr>\n",
              "      <th>183</th>\n",
              "      <td>1</td>\n",
              "      <td>3</td>\n",
              "      <td>36847</td>\n",
              "      <td>43950</td>\n",
              "      <td>20170</td>\n",
              "      <td>36534</td>\n",
              "      <td>239</td>\n",
              "      <td>47943</td>\n",
              "    </tr>\n",
              "  </tbody>\n",
              "</table>\n",
              "</div>\n",
              "      <button class=\"colab-df-convert\" onclick=\"convertToInteractive('df-8d7b24d2-2a38-453b-b339-84b882093bbb')\"\n",
              "              title=\"Convert this dataframe to an interactive table.\"\n",
              "              style=\"display:none;\">\n",
              "        \n",
              "  <svg xmlns=\"http://www.w3.org/2000/svg\" height=\"24px\"viewBox=\"0 0 24 24\"\n",
              "       width=\"24px\">\n",
              "    <path d=\"M0 0h24v24H0V0z\" fill=\"none\"/>\n",
              "    <path d=\"M18.56 5.44l.94 2.06.94-2.06 2.06-.94-2.06-.94-.94-2.06-.94 2.06-2.06.94zm-11 1L8.5 8.5l.94-2.06 2.06-.94-2.06-.94L8.5 2.5l-.94 2.06-2.06.94zm10 10l.94 2.06.94-2.06 2.06-.94-2.06-.94-.94-2.06-.94 2.06-2.06.94z\"/><path d=\"M17.41 7.96l-1.37-1.37c-.4-.4-.92-.59-1.43-.59-.52 0-1.04.2-1.43.59L10.3 9.45l-7.72 7.72c-.78.78-.78 2.05 0 2.83L4 21.41c.39.39.9.59 1.41.59.51 0 1.02-.2 1.41-.59l7.78-7.78 2.81-2.81c.8-.78.8-2.07 0-2.86zM5.41 20L4 18.59l7.72-7.72 1.47 1.35L5.41 20z\"/>\n",
              "  </svg>\n",
              "      </button>\n",
              "      \n",
              "  <style>\n",
              "    .colab-df-container {\n",
              "      display:flex;\n",
              "      flex-wrap:wrap;\n",
              "      gap: 12px;\n",
              "    }\n",
              "\n",
              "    .colab-df-convert {\n",
              "      background-color: #E8F0FE;\n",
              "      border: none;\n",
              "      border-radius: 50%;\n",
              "      cursor: pointer;\n",
              "      display: none;\n",
              "      fill: #1967D2;\n",
              "      height: 32px;\n",
              "      padding: 0 0 0 0;\n",
              "      width: 32px;\n",
              "    }\n",
              "\n",
              "    .colab-df-convert:hover {\n",
              "      background-color: #E2EBFA;\n",
              "      box-shadow: 0px 1px 2px rgba(60, 64, 67, 0.3), 0px 1px 3px 1px rgba(60, 64, 67, 0.15);\n",
              "      fill: #174EA6;\n",
              "    }\n",
              "\n",
              "    [theme=dark] .colab-df-convert {\n",
              "      background-color: #3B4455;\n",
              "      fill: #D2E3FC;\n",
              "    }\n",
              "\n",
              "    [theme=dark] .colab-df-convert:hover {\n",
              "      background-color: #434B5C;\n",
              "      box-shadow: 0px 1px 3px 1px rgba(0, 0, 0, 0.15);\n",
              "      filter: drop-shadow(0px 1px 2px rgba(0, 0, 0, 0.3));\n",
              "      fill: #FFFFFF;\n",
              "    }\n",
              "  </style>\n",
              "\n",
              "      <script>\n",
              "        const buttonEl =\n",
              "          document.querySelector('#df-8d7b24d2-2a38-453b-b339-84b882093bbb button.colab-df-convert');\n",
              "        buttonEl.style.display =\n",
              "          google.colab.kernel.accessAllowed ? 'block' : 'none';\n",
              "\n",
              "        async function convertToInteractive(key) {\n",
              "          const element = document.querySelector('#df-8d7b24d2-2a38-453b-b339-84b882093bbb');\n",
              "          const dataTable =\n",
              "            await google.colab.kernel.invokeFunction('convertToInteractive',\n",
              "                                                     [key], {});\n",
              "          if (!dataTable) return;\n",
              "\n",
              "          const docLinkHtml = 'Like what you see? Visit the ' +\n",
              "            '<a target=\"_blank\" href=https://colab.research.google.com/notebooks/data_table.ipynb>data table notebook</a>'\n",
              "            + ' to learn more about interactive tables.';\n",
              "          element.innerHTML = '';\n",
              "          dataTable['output_type'] = 'display_data';\n",
              "          await google.colab.output.renderOutput(dataTable, element);\n",
              "          const docLink = document.createElement('div');\n",
              "          docLink.innerHTML = docLinkHtml;\n",
              "          element.appendChild(docLink);\n",
              "        }\n",
              "      </script>\n",
              "    </div>\n",
              "  </div>\n",
              "  "
            ]
          },
          "metadata": {},
          "execution_count": 17
        }
      ]
    },
    {
      "cell_type": "code",
      "source": [
        "outlier(sale,\"Grocery\")"
      ],
      "metadata": {
        "colab": {
          "base_uri": "https://localhost:8080/",
          "height": 335
        },
        "id": "LT-YdVdJoWUJ",
        "outputId": "c702840e-bf9c-42ea-d92b-88c024b9f1e7"
      },
      "execution_count": null,
      "outputs": [
        {
          "output_type": "stream",
          "name": "stdout",
          "text": [
            "Media = 7951.28, Desvio padrao = 9503.16\n",
            "Outliers: 7\n",
            "Inliers: 433\n"
          ]
        },
        {
          "output_type": "display_data",
          "data": {
            "text/plain": [
              "<Figure size 864x288 with 3 Axes>"
            ],
            "image/png": "[encoded data removed]"
          },
          "metadata": {
            "needs_background": "light"
          }
        }
      ]
    },
    {
      "cell_type": "code",
      "source": [
        "sale[sale[\"Grocery\"] > (sale[\"Grocery\"].mean() + sale[\"Grocery\"].std()*4)]\n",
        "#sale = sale.drop([333],axis=0)"
      ],
      "metadata": {
        "id": "02K8YXaiqIJI",
        "colab": {
          "base_uri": "https://localhost:8080/",
          "height": 175
        },
        "outputId": "dd89b03f-2a7c-489d-a6d0-6dd14824c8ed"
      },
      "execution_count": null,
      "outputs": [
        {
          "output_type": "execute_result",
          "data": {
            "text/plain": [
              "     Channel  Region  Fresh   Milk  Grocery  Frozen  Detergents_Paper  \\\n",
              "47         2       3  44466  54259    55571    7782             24171   \n",
              "61         2       3  35942  38369    59598    3254             26701   \n",
              "85         2       3  16117  46197    92780    1026             40827   \n",
              "333        2       2   8565   4980    67298     131             38102   \n",
              "\n",
              "     Delicassen  \n",
              "47         6465  \n",
              "61         2017  \n",
              "85         2944  \n",
              "333        1215  "
            ],
            "text/html": [
              "\n",
              "  <div id=\"df-c0ba5bf7-4f87-4f70-9094-0fa9499175e9\">\n",
              "    <div class=\"colab-df-container\">\n",
              "      <div>\n",
              "<style scoped>\n",
              "    .dataframe tbody tr th:only-of-type {\n",
              "        vertical-align: middle;\n",
              "    }\n",
              "\n",
              "    .dataframe tbody tr th {\n",
              "        vertical-align: top;\n",
              "    }\n",
              "\n",
              "    .dataframe thead th {\n",
              "        text-align: right;\n",
              "    }\n",
              "</style>\n",
              "<table border=\"1\" class=\"dataframe\">\n",
              "  <thead>\n",
              "    <tr style=\"text-align: right;\">\n",
              "      <th></th>\n",
              "      <th>Channel</th>\n",
              "      <th>Region</th>\n",
              "      <th>Fresh</th>\n",
              "      <th>Milk</th>\n",
              "      <th>Grocery</th>\n",
              "      <th>Frozen</th>\n",
              "      <th>Detergents_Paper</th>\n",
              "      <th>Delicassen</th>\n",
              "    </tr>\n",
              "  </thead>\n",
              "  <tbody>\n",
              "    <tr>\n",
              "      <th>47</th>\n",
              "      <td>2</td>\n",
              "      <td>3</td>\n",
              "      <td>44466</td>\n",
              "      <td>54259</td>\n",
              "      <td>55571</td>\n",
              "      <td>7782</td>\n",
              "      <td>24171</td>\n",
              "      <td>6465</td>\n",
              "    </tr>\n",
              "    <tr>\n",
              "      <th>61</th>\n",
              "      <td>2</td>\n",
              "      <td>3</td>\n",
              "      <td>35942</td>\n",
              "      <td>38369</td>\n",
              "      <td>59598</td>\n",
              "      <td>3254</td>\n",
              "      <td>26701</td>\n",
              "      <td>2017</td>\n",
              "    </tr>\n",
              "    <tr>\n",
              "      <th>85</th>\n",
              "      <td>2</td>\n",
              "      <td>3</td>\n",
              "      <td>16117</td>\n",
              "      <td>46197</td>\n",
              "      <td>92780</td>\n",
              "      <td>1026</td>\n",
              "      <td>40827</td>\n",
              "      <td>2944</td>\n",
              "    </tr>\n",
              "    <tr>\n",
              "      <th>333</th>\n",
              "      <td>2</td>\n",
              "      <td>2</td>\n",
              "      <td>8565</td>\n",
              "      <td>4980</td>\n",
              "      <td>67298</td>\n",
              "      <td>131</td>\n",
              "      <td>38102</td>\n",
              "      <td>1215</td>\n",
              "    </tr>\n",
              "  </tbody>\n",
              "</table>\n",
              "</div>\n",
              "      <button class=\"colab-df-convert\" onclick=\"convertToInteractive('df-c0ba5bf7-4f87-4f70-9094-0fa9499175e9')\"\n",
              "              title=\"Convert this dataframe to an interactive table.\"\n",
              "              style=\"display:none;\">\n",
              "        \n",
              "  <svg xmlns=\"http://www.w3.org/2000/svg\" height=\"24px\"viewBox=\"0 0 24 24\"\n",
              "       width=\"24px\">\n",
              "    <path d=\"M0 0h24v24H0V0z\" fill=\"none\"/>\n",
              "    <path d=\"M18.56 5.44l.94 2.06.94-2.06 2.06-.94-2.06-.94-.94-2.06-.94 2.06-2.06.94zm-11 1L8.5 8.5l.94-2.06 2.06-.94-2.06-.94L8.5 2.5l-.94 2.06-2.06.94zm10 10l.94 2.06.94-2.06 2.06-.94-2.06-.94-.94-2.06-.94 2.06-2.06.94z\"/><path d=\"M17.41 7.96l-1.37-1.37c-.4-.4-.92-.59-1.43-.59-.52 0-1.04.2-1.43.59L10.3 9.45l-7.72 7.72c-.78.78-.78 2.05 0 2.83L4 21.41c.39.39.9.59 1.41.59.51 0 1.02-.2 1.41-.59l7.78-7.78 2.81-2.81c.8-.78.8-2.07 0-2.86zM5.41 20L4 18.59l7.72-7.72 1.47 1.35L5.41 20z\"/>\n",
              "  </svg>\n",
              "      </button>\n",
              "      \n",
              "  <style>\n",
              "    .colab-df-container {\n",
              "      display:flex;\n",
              "      flex-wrap:wrap;\n",
              "      gap: 12px;\n",
              "    }\n",
              "\n",
              "    .colab-df-convert {\n",
              "      background-color: #E8F0FE;\n",
              "      border: none;\n",
              "      border-radius: 50%;\n",
              "      cursor: pointer;\n",
              "      display: none;\n",
              "      fill: #1967D2;\n",
              "      height: 32px;\n",
              "      padding: 0 0 0 0;\n",
              "      width: 32px;\n",
              "    }\n",
              "\n",
              "    .colab-df-convert:hover {\n",
              "      background-color: #E2EBFA;\n",
              "      box-shadow: 0px 1px 2px rgba(60, 64, 67, 0.3), 0px 1px 3px 1px rgba(60, 64, 67, 0.15);\n",
              "      fill: #174EA6;\n",
              "    }\n",
              "\n",
              "    [theme=dark] .colab-df-convert {\n",
              "      background-color: #3B4455;\n",
              "      fill: #D2E3FC;\n",
              "    }\n",
              "\n",
              "    [theme=dark] .colab-df-convert:hover {\n",
              "      background-color: #434B5C;\n",
              "      box-shadow: 0px 1px 3px 1px rgba(0, 0, 0, 0.15);\n",
              "      filter: drop-shadow(0px 1px 2px rgba(0, 0, 0, 0.3));\n",
              "      fill: #FFFFFF;\n",
              "    }\n",
              "  </style>\n",
              "\n",
              "      <script>\n",
              "        const buttonEl =\n",
              "          document.querySelector('#df-c0ba5bf7-4f87-4f70-9094-0fa9499175e9 button.colab-df-convert');\n",
              "        buttonEl.style.display =\n",
              "          google.colab.kernel.accessAllowed ? 'block' : 'none';\n",
              "\n",
              "        async function convertToInteractive(key) {\n",
              "          const element = document.querySelector('#df-c0ba5bf7-4f87-4f70-9094-0fa9499175e9');\n",
              "          const dataTable =\n",
              "            await google.colab.kernel.invokeFunction('convertToInteractive',\n",
              "                                                     [key], {});\n",
              "          if (!dataTable) return;\n",
              "\n",
              "          const docLinkHtml = 'Like what you see? Visit the ' +\n",
              "            '<a target=\"_blank\" href=https://colab.research.google.com/notebooks/data_table.ipynb>data table notebook</a>'\n",
              "            + ' to learn more about interactive tables.';\n",
              "          element.innerHTML = '';\n",
              "          dataTable['output_type'] = 'display_data';\n",
              "          await google.colab.output.renderOutput(dataTable, element);\n",
              "          const docLink = document.createElement('div');\n",
              "          docLink.innerHTML = docLinkHtml;\n",
              "          element.appendChild(docLink);\n",
              "        }\n",
              "      </script>\n",
              "    </div>\n",
              "  </div>\n",
              "  "
            ]
          },
          "metadata": {},
          "execution_count": 19
        }
      ]
    },
    {
      "cell_type": "code",
      "source": [
        "outlier(sale,'Detergents_Paper')"
      ],
      "metadata": {
        "colab": {
          "base_uri": "https://localhost:8080/",
          "height": 336
        },
        "id": "-7FH_LRqodXv",
        "outputId": "954bdb4b-8900-404d-a211-3729a39dba95"
      },
      "execution_count": null,
      "outputs": [
        {
          "output_type": "stream",
          "name": "stdout",
          "text": [
            "Media = 2881.49, Desvio padrao = 4767.85\n",
            "Outliers: 10\n",
            "Inliers: 430\n"
          ]
        },
        {
          "output_type": "display_data",
          "data": {
            "text/plain": [
              "<Figure size 864x288 with 3 Axes>"
            ],
            "image/png": "[encoded data removed]"
          },
          "metadata": {
            "needs_background": "light"
          }
        }
      ]
    },
    {
      "cell_type": "code",
      "source": [
        "sale[sale['Detergents_Paper'] > (sale['Detergents_Paper'].mean() + sale['Detergents_Paper'].std()*4)]\n",
        "#sale = sale.drop([65],axis=0)"
      ],
      "metadata": {
        "id": "ReGD2FUDq1Fx",
        "colab": {
          "base_uri": "https://localhost:8080/",
          "height": 206
        },
        "outputId": "a17c162f-2f8b-4103-9783-d2ea78e19549"
      },
      "execution_count": null,
      "outputs": [
        {
          "output_type": "execute_result",
          "data": {
            "text/plain": [
              "     Channel  Region  Fresh   Milk  Grocery  Frozen  Detergents_Paper  \\\n",
              "47         2       3  44466  54259    55571    7782             24171   \n",
              "61         2       3  35942  38369    59598    3254             26701   \n",
              "65         2       3     85  20959    45828      36             24231   \n",
              "85         2       3  16117  46197    92780    1026             40827   \n",
              "333        2       2   8565   4980    67298     131             38102   \n",
              "\n",
              "     Delicassen  \n",
              "47         6465  \n",
              "61         2017  \n",
              "65         1423  \n",
              "85         2944  \n",
              "333        1215  "
            ],
            "text/html": [
              "\n",
              "  <div id=\"df-045361f8-0ee9-4ebf-91f7-a738f3a1126b\">\n",
              "    <div class=\"colab-df-container\">\n",
              "      <div>\n",
              "<style scoped>\n",
              "    .dataframe tbody tr th:only-of-type {\n",
              "        vertical-align: middle;\n",
              "    }\n",
              "\n",
              "    .dataframe tbody tr th {\n",
              "        vertical-align: top;\n",
              "    }\n",
              "\n",
              "    .dataframe thead th {\n",
              "        text-align: right;\n",
              "    }\n",
              "</style>\n",
              "<table border=\"1\" class=\"dataframe\">\n",
              "  <thead>\n",
              "    <tr style=\"text-align: right;\">\n",
              "      <th></th>\n",
              "      <th>Channel</th>\n",
              "      <th>Region</th>\n",
              "      <th>Fresh</th>\n",
              "      <th>Milk</th>\n",
              "      <th>Grocery</th>\n",
              "      <th>Frozen</th>\n",
              "      <th>Detergents_Paper</th>\n",
              "      <th>Delicassen</th>\n",
              "    </tr>\n",
              "  </thead>\n",
              "  <tbody>\n",
              "    <tr>\n",
              "      <th>47</th>\n",
              "      <td>2</td>\n",
              "      <td>3</td>\n",
              "      <td>44466</td>\n",
              "      <td>54259</td>\n",
              "      <td>55571</td>\n",
              "      <td>7782</td>\n",
              "      <td>24171</td>\n",
              "      <td>6465</td>\n",
              "    </tr>\n",
              "    <tr>\n",
              "      <th>61</th>\n",
              "      <td>2</td>\n",
              "      <td>3</td>\n",
              "      <td>35942</td>\n",
              "      <td>38369</td>\n",
              "      <td>59598</td>\n",
              "      <td>3254</td>\n",
              "      <td>26701</td>\n",
              "      <td>2017</td>\n",
              "    </tr>\n",
              "    <tr>\n",
              "      <th>65</th>\n",
              "      <td>2</td>\n",
              "      <td>3</td>\n",
              "      <td>85</td>\n",
              "      <td>20959</td>\n",
              "      <td>45828</td>\n",
              "      <td>36</td>\n",
              "      <td>24231</td>\n",
              "      <td>1423</td>\n",
              "    </tr>\n",
              "    <tr>\n",
              "      <th>85</th>\n",
              "      <td>2</td>\n",
              "      <td>3</td>\n",
              "      <td>16117</td>\n",
              "      <td>46197</td>\n",
              "      <td>92780</td>\n",
              "      <td>1026</td>\n",
              "      <td>40827</td>\n",
              "      <td>2944</td>\n",
              "    </tr>\n",
              "    <tr>\n",
              "      <th>333</th>\n",
              "      <td>2</td>\n",
              "      <td>2</td>\n",
              "      <td>8565</td>\n",
              "      <td>4980</td>\n",
              "      <td>67298</td>\n",
              "      <td>131</td>\n",
              "      <td>38102</td>\n",
              "      <td>1215</td>\n",
              "    </tr>\n",
              "  </tbody>\n",
              "</table>\n",
              "</div>\n",
              "      <button class=\"colab-df-convert\" onclick=\"convertToInteractive('df-045361f8-0ee9-4ebf-91f7-a738f3a1126b')\"\n",
              "              title=\"Convert this dataframe to an interactive table.\"\n",
              "              style=\"display:none;\">\n",
              "        \n",
              "  <svg xmlns=\"http://www.w3.org/2000/svg\" height=\"24px\"viewBox=\"0 0 24 24\"\n",
              "       width=\"24px\">\n",
              "    <path d=\"M0 0h24v24H0V0z\" fill=\"none\"/>\n",
              "    <path d=\"M18.56 5.44l.94 2.06.94-2.06 2.06-.94-2.06-.94-.94-2.06-.94 2.06-2.06.94zm-11 1L8.5 8.5l.94-2.06 2.06-.94-2.06-.94L8.5 2.5l-.94 2.06-2.06.94zm10 10l.94 2.06.94-2.06 2.06-.94-2.06-.94-.94-2.06-.94 2.06-2.06.94z\"/><path d=\"M17.41 7.96l-1.37-1.37c-.4-.4-.92-.59-1.43-.59-.52 0-1.04.2-1.43.59L10.3 9.45l-7.72 7.72c-.78.78-.78 2.05 0 2.83L4 21.41c.39.39.9.59 1.41.59.51 0 1.02-.2 1.41-.59l7.78-7.78 2.81-2.81c.8-.78.8-2.07 0-2.86zM5.41 20L4 18.59l7.72-7.72 1.47 1.35L5.41 20z\"/>\n",
              "  </svg>\n",
              "      </button>\n",
              "      \n",
              "  <style>\n",
              "    .colab-df-container {\n",
              "      display:flex;\n",
              "      flex-wrap:wrap;\n",
              "      gap: 12px;\n",
              "    }\n",
              "\n",
              "    .colab-df-convert {\n",
              "      background-color: #E8F0FE;\n",
              "      border: none;\n",
              "      border-radius: 50%;\n",
              "      cursor: pointer;\n",
              "      display: none;\n",
              "      fill: #1967D2;\n",
              "      height: 32px;\n",
              "      padding: 0 0 0 0;\n",
              "      width: 32px;\n",
              "    }\n",
              "\n",
              "    .colab-df-convert:hover {\n",
              "      background-color: #E2EBFA;\n",
              "      box-shadow: 0px 1px 2px rgba(60, 64, 67, 0.3), 0px 1px 3px 1px rgba(60, 64, 67, 0.15);\n",
              "      fill: #174EA6;\n",
              "    }\n",
              "\n",
              "    [theme=dark] .colab-df-convert {\n",
              "      background-color: #3B4455;\n",
              "      fill: #D2E3FC;\n",
              "    }\n",
              "\n",
              "    [theme=dark] .colab-df-convert:hover {\n",
              "      background-color: #434B5C;\n",
              "      box-shadow: 0px 1px 3px 1px rgba(0, 0, 0, 0.15);\n",
              "      filter: drop-shadow(0px 1px 2px rgba(0, 0, 0, 0.3));\n",
              "      fill: #FFFFFF;\n",
              "    }\n",
              "  </style>\n",
              "\n",
              "      <script>\n",
              "        const buttonEl =\n",
              "          document.querySelector('#df-045361f8-0ee9-4ebf-91f7-a738f3a1126b button.colab-df-convert');\n",
              "        buttonEl.style.display =\n",
              "          google.colab.kernel.accessAllowed ? 'block' : 'none';\n",
              "\n",
              "        async function convertToInteractive(key) {\n",
              "          const element = document.querySelector('#df-045361f8-0ee9-4ebf-91f7-a738f3a1126b');\n",
              "          const dataTable =\n",
              "            await google.colab.kernel.invokeFunction('convertToInteractive',\n",
              "                                                     [key], {});\n",
              "          if (!dataTable) return;\n",
              "\n",
              "          const docLinkHtml = 'Like what you see? Visit the ' +\n",
              "            '<a target=\"_blank\" href=https://colab.research.google.com/notebooks/data_table.ipynb>data table notebook</a>'\n",
              "            + ' to learn more about interactive tables.';\n",
              "          element.innerHTML = '';\n",
              "          dataTable['output_type'] = 'display_data';\n",
              "          await google.colab.output.renderOutput(dataTable, element);\n",
              "          const docLink = document.createElement('div');\n",
              "          docLink.innerHTML = docLinkHtml;\n",
              "          element.appendChild(docLink);\n",
              "        }\n",
              "      </script>\n",
              "    </div>\n",
              "  </div>\n",
              "  "
            ]
          },
          "metadata": {},
          "execution_count": 21
        }
      ]
    },
    {
      "cell_type": "markdown",
      "source": [
        "Como visto no código não foi aplicada a retirada dos outliers para a continuação do trabalho, assim como antes vamos utilizar este passo apenas como aprendizado. Foi testado o modelo com estes outliers retirados, mas também não foram encontrados melhores resultados."
      ],
      "metadata": {
        "id": "wB0Mt9dkyg8d"
      }
    },
    {
      "cell_type": "markdown",
      "source": [
        "Seguindo com projeto, agora vamos para outra análise, vamos transformar as variáveis CHANNEL e REGION em números binários, onde criaremos colunas para cada característica, neste caso representados por números, assim, quando o cliente pertencer a determinado grupo será sinalizado com o número 1, caso não, número 0. Segue código abaixo, este também conhecidos como dummy, porém, neste caso fiz manualmente."
      ],
      "metadata": {
        "id": "1lGBurNly7eS"
      }
    },
    {
      "cell_type": "code",
      "source": [
        "X['Horeca'] = X['Channel'] \n",
        "X['Varejo'] = X['Channel']  \n",
        "\n",
        "X['Horeca'] = X['Horeca'].map({1:1,2:0})\n",
        "X['Varejo'] = X['Varejo'].map({1:0,2:1}) "
      ],
      "metadata": {
        "id": "LMggGiNU3kwL"
      },
      "execution_count": null,
      "outputs": []
    },
    {
      "cell_type": "code",
      "source": [
        "X['R_Lisbon'] = X['Region'] \n",
        "X['R_Oporto'] = X['Region'] \n",
        "X['R_Other'] = X['Region'] \n",
        "\n",
        "X['R_Lisbon'] = X['R_Lisbon'].map({1:1,2:0,3:0}) \n",
        "X['R_Oporto'] = X['R_Oporto'].map({1:0,2:1,3:0}) \n",
        "X['R_Other'] = X['R_Other'].map({1:0,2:0,3:1}) "
      ],
      "metadata": {
        "id": "2-SB0IGZvOxF"
      },
      "execution_count": null,
      "outputs": []
    },
    {
      "cell_type": "markdown",
      "source": [
        "Tirando as variáveis \"Channel\" e \"Region\", poise elas foram para o final da tabela em outro formato"
      ],
      "metadata": {
        "id": "Tl1YFH2Htwkt"
      }
    },
    {
      "cell_type": "code",
      "source": [
        "X = X.drop([\"Channel\",\"Region\"], axis=1)"
      ],
      "metadata": {
        "id": "1QHcVugm7K2s"
      },
      "execution_count": null,
      "outputs": []
    },
    {
      "cell_type": "markdown",
      "source": [
        "Aqui podemos visualizar como ficou o nosso conjunto de dados depois da formatação:"
      ],
      "metadata": {
        "id": "C_8EP-zXgJCN"
      }
    },
    {
      "cell_type": "code",
      "source": [
        "X"
      ],
      "metadata": {
        "colab": {
          "base_uri": "https://localhost:8080/",
          "height": 424
        },
        "id": "vqUMOZHP_PkQ",
        "outputId": "d3712e9f-793d-4f39-e7ad-f9592fa101db"
      },
      "execution_count": null,
      "outputs": [
        {
          "output_type": "execute_result",
          "data": {
            "text/plain": [
              "     Fresh   Milk  Grocery  Frozen  Detergents_Paper  Delicassen  Horeca  \\\n",
              "0    12669   9656     7561     214              2674        1338       0   \n",
              "1     7057   9810     9568    1762              3293        1776       0   \n",
              "2     6353   8808     7684    2405              3516        7844       0   \n",
              "3    13265   1196     4221    6404               507        1788       1   \n",
              "4    22615   5410     7198    3915              1777        5185       0   \n",
              "..     ...    ...      ...     ...               ...         ...     ...   \n",
              "435  29703  12051    16027   13135               182        2204       1   \n",
              "436  39228   1431      764    4510                93        2346       1   \n",
              "437  14531  15488    30243     437             14841        1867       0   \n",
              "438  10290   1981     2232    1038               168        2125       1   \n",
              "439   2787   1698     2510      65               477          52       1   \n",
              "\n",
              "     Varejo  R_Lisbon  R_Oporto  R_Other  \n",
              "0         1         0         0        1  \n",
              "1         1         0         0        1  \n",
              "2         1         0         0        1  \n",
              "3         0         0         0        1  \n",
              "4         1         0         0        1  \n",
              "..      ...       ...       ...      ...  \n",
              "435       0         0         0        1  \n",
              "436       0         0         0        1  \n",
              "437       1         0         0        1  \n",
              "438       0         0         0        1  \n",
              "439       0         0         0        1  \n",
              "\n",
              "[440 rows x 11 columns]"
            ],
            "text/html": [
              "\n",
              "  <div id=\"df-74a377de-6441-4347-8402-c3e275932c28\">\n",
              "    <div class=\"colab-df-container\">\n",
              "      <div>\n",
              "<style scoped>\n",
              "    .dataframe tbody tr th:only-of-type {\n",
              "        vertical-align: middle;\n",
              "    }\n",
              "\n",
              "    .dataframe tbody tr th {\n",
              "        vertical-align: top;\n",
              "    }\n",
              "\n",
              "    .dataframe thead th {\n",
              "        text-align: right;\n",
              "    }\n",
              "</style>\n",
              "<table border=\"1\" class=\"dataframe\">\n",
              "  <thead>\n",
              "    <tr style=\"text-align: right;\">\n",
              "      <th></th>\n",
              "      <th>Fresh</th>\n",
              "      <th>Milk</th>\n",
              "      <th>Grocery</th>\n",
              "      <th>Frozen</th>\n",
              "      <th>Detergents_Paper</th>\n",
              "      <th>Delicassen</th>\n",
              "      <th>Horeca</th>\n",
              "      <th>Varejo</th>\n",
              "      <th>R_Lisbon</th>\n",
              "      <th>R_Oporto</th>\n",
              "      <th>R_Other</th>\n",
              "    </tr>\n",
              "  </thead>\n",
              "  <tbody>\n",
              "    <tr>\n",
              "      <th>0</th>\n",
              "      <td>12669</td>\n",
              "      <td>9656</td>\n",
              "      <td>7561</td>\n",
              "      <td>214</td>\n",
              "      <td>2674</td>\n",
              "      <td>1338</td>\n",
              "      <td>0</td>\n",
              "      <td>1</td>\n",
              "      <td>0</td>\n",
              "      <td>0</td>\n",
              "      <td>1</td>\n",
              "    </tr>\n",
              "    <tr>\n",
              "      <th>1</th>\n",
              "      <td>7057</td>\n",
              "      <td>9810</td>\n",
              "      <td>9568</td>\n",
              "      <td>1762</td>\n",
              "      <td>3293</td>\n",
              "      <td>1776</td>\n",
              "      <td>0</td>\n",
              "      <td>1</td>\n",
              "      <td>0</td>\n",
              "      <td>0</td>\n",
              "      <td>1</td>\n",
              "    </tr>\n",
              "    <tr>\n",
              "      <th>2</th>\n",
              "      <td>6353</td>\n",
              "      <td>8808</td>\n",
              "      <td>7684</td>\n",
              "      <td>2405</td>\n",
              "      <td>3516</td>\n",
              "      <td>7844</td>\n",
              "      <td>0</td>\n",
              "      <td>1</td>\n",
              "      <td>0</td>\n",
              "      <td>0</td>\n",
              "      <td>1</td>\n",
              "    </tr>\n",
              "    <tr>\n",
              "      <th>3</th>\n",
              "      <td>13265</td>\n",
              "      <td>1196</td>\n",
              "      <td>4221</td>\n",
              "      <td>6404</td>\n",
              "      <td>507</td>\n",
              "      <td>1788</td>\n",
              "      <td>1</td>\n",
              "      <td>0</td>\n",
              "      <td>0</td>\n",
              "      <td>0</td>\n",
              "      <td>1</td>\n",
              "    </tr>\n",
              "    <tr>\n",
              "      <th>4</th>\n",
              "      <td>22615</td>\n",
              "      <td>5410</td>\n",
              "      <td>7198</td>\n",
              "      <td>3915</td>\n",
              "      <td>1777</td>\n",
              "      <td>5185</td>\n",
              "      <td>0</td>\n",
              "      <td>1</td>\n",
              "      <td>0</td>\n",
              "      <td>0</td>\n",
              "      <td>1</td>\n",
              "    </tr>\n",
              "    <tr>\n",
              "      <th>...</th>\n",
              "      <td>...</td>\n",
              "      <td>...</td>\n",
              "      <td>...</td>\n",
              "      <td>...</td>\n",
              "      <td>...</td>\n",
              "      <td>...</td>\n",
              "      <td>...</td>\n",
              "      <td>...</td>\n",
              "      <td>...</td>\n",
              "      <td>...</td>\n",
              "      <td>...</td>\n",
              "    </tr>\n",
              "    <tr>\n",
              "      <th>435</th>\n",
              "      <td>29703</td>\n",
              "      <td>12051</td>\n",
              "      <td>16027</td>\n",
              "      <td>13135</td>\n",
              "      <td>182</td>\n",
              "      <td>2204</td>\n",
              "      <td>1</td>\n",
              "      <td>0</td>\n",
              "      <td>0</td>\n",
              "      <td>0</td>\n",
              "      <td>1</td>\n",
              "    </tr>\n",
              "    <tr>\n",
              "      <th>436</th>\n",
              "      <td>39228</td>\n",
              "      <td>1431</td>\n",
              "      <td>764</td>\n",
              "      <td>4510</td>\n",
              "      <td>93</td>\n",
              "      <td>2346</td>\n",
              "      <td>1</td>\n",
              "      <td>0</td>\n",
              "      <td>0</td>\n",
              "      <td>0</td>\n",
              "      <td>1</td>\n",
              "    </tr>\n",
              "    <tr>\n",
              "      <th>437</th>\n",
              "      <td>14531</td>\n",
              "      <td>15488</td>\n",
              "      <td>30243</td>\n",
              "      <td>437</td>\n",
              "      <td>14841</td>\n",
              "      <td>1867</td>\n",
              "      <td>0</td>\n",
              "      <td>1</td>\n",
              "      <td>0</td>\n",
              "      <td>0</td>\n",
              "      <td>1</td>\n",
              "    </tr>\n",
              "    <tr>\n",
              "      <th>438</th>\n",
              "      <td>10290</td>\n",
              "      <td>1981</td>\n",
              "      <td>2232</td>\n",
              "      <td>1038</td>\n",
              "      <td>168</td>\n",
              "      <td>2125</td>\n",
              "      <td>1</td>\n",
              "      <td>0</td>\n",
              "      <td>0</td>\n",
              "      <td>0</td>\n",
              "      <td>1</td>\n",
              "    </tr>\n",
              "    <tr>\n",
              "      <th>439</th>\n",
              "      <td>2787</td>\n",
              "      <td>1698</td>\n",
              "      <td>2510</td>\n",
              "      <td>65</td>\n",
              "      <td>477</td>\n",
              "      <td>52</td>\n",
              "      <td>1</td>\n",
              "      <td>0</td>\n",
              "      <td>0</td>\n",
              "      <td>0</td>\n",
              "      <td>1</td>\n",
              "    </tr>\n",
              "  </tbody>\n",
              "</table>\n",
              "<p>440 rows × 11 columns</p>\n",
              "</div>\n",
              "      <button class=\"colab-df-convert\" onclick=\"convertToInteractive('df-74a377de-6441-4347-8402-c3e275932c28')\"\n",
              "              title=\"Convert this dataframe to an interactive table.\"\n",
              "              style=\"display:none;\">\n",
              "        \n",
              "  <svg xmlns=\"http://www.w3.org/2000/svg\" height=\"24px\"viewBox=\"0 0 24 24\"\n",
              "       width=\"24px\">\n",
              "    <path d=\"M0 0h24v24H0V0z\" fill=\"none\"/>\n",
              "    <path d=\"M18.56 5.44l.94 2.06.94-2.06 2.06-.94-2.06-.94-.94-2.06-.94 2.06-2.06.94zm-11 1L8.5 8.5l.94-2.06 2.06-.94-2.06-.94L8.5 2.5l-.94 2.06-2.06.94zm10 10l.94 2.06.94-2.06 2.06-.94-2.06-.94-.94-2.06-.94 2.06-2.06.94z\"/><path d=\"M17.41 7.96l-1.37-1.37c-.4-.4-.92-.59-1.43-.59-.52 0-1.04.2-1.43.59L10.3 9.45l-7.72 7.72c-.78.78-.78 2.05 0 2.83L4 21.41c.39.39.9.59 1.41.59.51 0 1.02-.2 1.41-.59l7.78-7.78 2.81-2.81c.8-.78.8-2.07 0-2.86zM5.41 20L4 18.59l7.72-7.72 1.47 1.35L5.41 20z\"/>\n",
              "  </svg>\n",
              "      </button>\n",
              "      \n",
              "  <style>\n",
              "    .colab-df-container {\n",
              "      display:flex;\n",
              "      flex-wrap:wrap;\n",
              "      gap: 12px;\n",
              "    }\n",
              "\n",
              "    .colab-df-convert {\n",
              "      background-color: #E8F0FE;\n",
              "      border: none;\n",
              "      border-radius: 50%;\n",
              "      cursor: pointer;\n",
              "      display: none;\n",
              "      fill: #1967D2;\n",
              "      height: 32px;\n",
              "      padding: 0 0 0 0;\n",
              "      width: 32px;\n",
              "    }\n",
              "\n",
              "    .colab-df-convert:hover {\n",
              "      background-color: #E2EBFA;\n",
              "      box-shadow: 0px 1px 2px rgba(60, 64, 67, 0.3), 0px 1px 3px 1px rgba(60, 64, 67, 0.15);\n",
              "      fill: #174EA6;\n",
              "    }\n",
              "\n",
              "    [theme=dark] .colab-df-convert {\n",
              "      background-color: #3B4455;\n",
              "      fill: #D2E3FC;\n",
              "    }\n",
              "\n",
              "    [theme=dark] .colab-df-convert:hover {\n",
              "      background-color: #434B5C;\n",
              "      box-shadow: 0px 1px 3px 1px rgba(0, 0, 0, 0.15);\n",
              "      filter: drop-shadow(0px 1px 2px rgba(0, 0, 0, 0.3));\n",
              "      fill: #FFFFFF;\n",
              "    }\n",
              "  </style>\n",
              "\n",
              "      <script>\n",
              "        const buttonEl =\n",
              "          document.querySelector('#df-74a377de-6441-4347-8402-c3e275932c28 button.colab-df-convert');\n",
              "        buttonEl.style.display =\n",
              "          google.colab.kernel.accessAllowed ? 'block' : 'none';\n",
              "\n",
              "        async function convertToInteractive(key) {\n",
              "          const element = document.querySelector('#df-74a377de-6441-4347-8402-c3e275932c28');\n",
              "          const dataTable =\n",
              "            await google.colab.kernel.invokeFunction('convertToInteractive',\n",
              "                                                     [key], {});\n",
              "          if (!dataTable) return;\n",
              "\n",
              "          const docLinkHtml = 'Like what you see? Visit the ' +\n",
              "            '<a target=\"_blank\" href=https://colab.research.google.com/notebooks/data_table.ipynb>data table notebook</a>'\n",
              "            + ' to learn more about interactive tables.';\n",
              "          element.innerHTML = '';\n",
              "          dataTable['output_type'] = 'display_data';\n",
              "          await google.colab.output.renderOutput(dataTable, element);\n",
              "          const docLink = document.createElement('div');\n",
              "          docLink.innerHTML = docLinkHtml;\n",
              "          element.appendChild(docLink);\n",
              "        }\n",
              "      </script>\n",
              "    </div>\n",
              "  </div>\n",
              "  "
            ]
          },
          "metadata": {},
          "execution_count": 25
        }
      ]
    },
    {
      "cell_type": "markdown",
      "metadata": {
        "id": "ajIT8sdekAPX"
      },
      "source": [
        "# Exercicio 1. (3.0 pontos)\n",
        "\n",
        "Faça um gráfico de cotovelo, quantos clusters aproximadamente melhor separam este conjunto de dados informado pelo grafico de cotovelo?"
      ]
    },
    {
      "cell_type": "markdown",
      "source": [
        "Vamos utilizar somente os dados de X"
      ],
      "metadata": {
        "id": "Pr3meo7kGLrt"
      }
    },
    {
      "cell_type": "code",
      "source": [
        "#normalizando os dados de X\n",
        "X = StandardScaler().fit_transform(X) "
      ],
      "metadata": {
        "id": "r14JFGTaSVOr"
      },
      "execution_count": null,
      "outputs": []
    },
    {
      "cell_type": "code",
      "execution_count": null,
      "metadata": {
        "colab": {
          "base_uri": "https://localhost:8080/",
          "height": 404
        },
        "id": "Ys2D2Q8_kAPY",
        "outputId": "b6bbbc7e-ab61-4af7-dcc9-337a8504f3a6"
      },
      "outputs": [
        {
          "output_type": "display_data",
          "data": {
            "text/plain": [
              "<Figure size 576x432 with 1 Axes>"
            ],
            "image/png": "[encoded data removed]"
          },
          "metadata": {
            "needs_background": "light"
          }
        }
      ],
      "source": [
        "#### VALE 0.5 pontos\n",
        "#### CONSTRUA OS SEUS GRAFICOS ABAIXO, USE MAIS CELULAS SE NECESSARIO\n",
        "\n",
        "WCSS = []\n",
        "\n",
        "K = range(1,20)\n",
        "for k in K:\n",
        "  kmeans = KMeans(n_clusters=k)\n",
        "  kmeans.fit(X)\n",
        "  WCSS.append(kmeans.inertia_)\n",
        "\n",
        "plt.figure(figsize=(8,6))\n",
        "plt.plot(K , WCSS, '-bo')\n",
        "plt.xlabel('k')\n",
        "plt.ylabel(\"WCSS\")\n",
        "plt.title('Método do cotovelo')\n",
        "plt.show()"
      ]
    },
    {
      "cell_type": "markdown",
      "metadata": {
        "id": "WOoUhLyykAPa"
      },
      "source": [
        "**RESPOSTA** (VALE 1.0 ponto): \n",
        "- É bem complicado na verdade concluir algo através deste método, quando a curva fica muito suave, nestes casos temos que tentar por outras métricas.\n",
        "- Olhando para o gráfico acredito que deveríamos testar os K entre 2 e 6, é o momento em que o nosso gráfico de cotovelo deixa, levemente, de ficar na vertical para ficar mais na horizontal, logo vamos testar com outra métrica e verificar qual K se encaixa melhor, utilizando a métrica da silhouette.\n"
      ]
    },
    {
      "cell_type": "markdown",
      "metadata": {
        "id": "EuRIvsWRkAPc"
      },
      "source": [
        "Construa um modelo de **clusterização K-Médias** usando o melhor numero de clusters informado pelo gráfico de cotovelo e usem o parametro **random_state** com valor 10."
      ]
    },
    {
      "cell_type": "code",
      "execution_count": null,
      "metadata": {
        "id": "Hv1U3vm8kAPd"
      },
      "outputs": [],
      "source": [
        "#### VALE 0.5 pontos\n",
        "#### EXECUTE OS COMANDOS ABAIXO, USE MAIS CELULAS SE NECESSARIO\n",
        "\n",
        "kmedia2 = KMeans(n_clusters=2, random_state = 10)\n",
        "kmedia2_pred = kmedia2.fit_predict(X)\n",
        "\n",
        "kmedia3 = KMeans(n_clusters=3, random_state = 10)\n",
        "kmedia3_pred = kmedia3.fit_predict(X)\n",
        "\n",
        "kmedia4 = KMeans(n_clusters=4, random_state = 10)\n",
        "kmedia4_pred = kmedia4.fit_predict(X)\n",
        "\n",
        "kmedia5 = KMeans(n_clusters=5, random_state = 10)\n",
        "kmedia5_pred = kmedia5.fit_predict(X)\n",
        "\n",
        "kmedia6 = KMeans(n_clusters=6, random_state = 10)\n",
        "kmedia6_pred = kmedia5.fit_predict(X)"
      ]
    },
    {
      "cell_type": "code",
      "source": [
        "print('k-médias com k=2')\n",
        "print('Silhouette Score(euclidean):' , silhouette_score(X, kmedia2_pred, metric = 'euclidean'))\n",
        "\n",
        "print('\\nk-médias com k=3')\n",
        "print('Silhouette Score(euclidean):' , silhouette_score(X, kmedia3_pred, metric = 'euclidean'))\n",
        "\n",
        "\n",
        "print('\\nk-médias com k=4')\n",
        "print('Silhouette Score(euclidean):' , silhouette_score(X, kmedia4_pred, metric = 'euclidean'))\n",
        "\n",
        "print('\\nk-médias com k=5')\n",
        "print('Silhouette Score(euclidean):' , silhouette_score(X, kmedia5_pred, metric = 'euclidean'))\n",
        "\n",
        "print('\\nk-médias com k=6')\n",
        "print('Silhouette Score(euclidean):' , silhouette_score(X, kmedia6_pred, metric = 'euclidean'))"
      ],
      "metadata": {
        "colab": {
          "base_uri": "https://localhost:8080/"
        },
        "id": "VKphHgSPN0rA",
        "outputId": "f5f4b6bf-037a-4a2b-8d8c-72a27a467220"
      },
      "execution_count": null,
      "outputs": [
        {
          "output_type": "stream",
          "name": "stdout",
          "text": [
            "k-médias com k=2\n",
            "Silhouette Score(euclidean): 0.3822985274279436\n",
            "\n",
            "k-médias com k=3\n",
            "Silhouette Score(euclidean): 0.39249570468378986\n",
            "\n",
            "k-médias com k=4\n",
            "Silhouette Score(euclidean): 0.4161858820048841\n",
            "\n",
            "k-médias com k=5\n",
            "Silhouette Score(euclidean): 0.4706106938290524\n",
            "\n",
            "k-médias com k=6\n",
            "Silhouette Score(euclidean): 0.4706106938290524\n"
          ]
        }
      ]
    },
    {
      "cell_type": "markdown",
      "source": [
        "Como não foi possível ter certeza do valor do K com gráfico de cotovelo, utilizamos a métrica silhouette para encontrar o melhor valor, neste caso foram encontrados os valores 5 e 6, porem como o 5 gasta menos processamento, optamos pelo menor k, k = 5"
      ],
      "metadata": {
        "id": "_veYZRRsuNOp"
      }
    },
    {
      "cell_type": "markdown",
      "metadata": {
        "id": "o55giiFRkAPe"
      },
      "source": [
        "Adicione o resultado da clusterização no conjunto de dados original, chame essa nova variavel de **cluster** e conte quantas observações há em cada cluster e preencha:\n",
        "- Vamos utilizar o K = 5"
      ]
    },
    {
      "cell_type": "code",
      "execution_count": null,
      "metadata": {
        "id": "TUBf3b7okAPe"
      },
      "outputs": [],
      "source": [
        "#### VALE 0.5 pontos\n",
        "#### EXECUTE OS COMANDOS ABAIXO, USE MAIS CELULAS SE NECESSARIO\n",
        "\n",
        "sale['cluster5'] = kmedia5_pred"
      ]
    },
    {
      "cell_type": "code",
      "source": [
        "sale"
      ],
      "metadata": {
        "colab": {
          "base_uri": "https://localhost:8080/",
          "height": 424
        },
        "id": "39MWp-iSuw9Q",
        "outputId": "1f10b328-61a1-4f47-8278-23dcea1b10bb"
      },
      "execution_count": null,
      "outputs": [
        {
          "output_type": "execute_result",
          "data": {
            "text/plain": [
              "     Channel  Region  Fresh   Milk  Grocery  Frozen  Detergents_Paper  \\\n",
              "0          2       3  12669   9656     7561     214              2674   \n",
              "1          2       3   7057   9810     9568    1762              3293   \n",
              "2          2       3   6353   8808     7684    2405              3516   \n",
              "3          1       3  13265   1196     4221    6404               507   \n",
              "4          2       3  22615   5410     7198    3915              1777   \n",
              "..       ...     ...    ...    ...      ...     ...               ...   \n",
              "435        1       3  29703  12051    16027   13135               182   \n",
              "436        1       3  39228   1431      764    4510                93   \n",
              "437        2       3  14531  15488    30243     437             14841   \n",
              "438        1       3  10290   1981     2232    1038               168   \n",
              "439        1       3   2787   1698     2510      65               477   \n",
              "\n",
              "     Delicassen  cluster5  \n",
              "0          1338         2  \n",
              "1          1776         2  \n",
              "2          7844         2  \n",
              "3          1788         1  \n",
              "4          5185         2  \n",
              "..          ...       ...  \n",
              "435        2204         1  \n",
              "436        2346         1  \n",
              "437        1867         2  \n",
              "438        2125         1  \n",
              "439          52         1  \n",
              "\n",
              "[440 rows x 9 columns]"
            ],
            "text/html": [
              "\n",
              "  <div id=\"df-cb343070-60a9-4eb7-b2f3-53ab2c97d5e0\">\n",
              "    <div class=\"colab-df-container\">\n",
              "      <div>\n",
              "<style scoped>\n",
              "    .dataframe tbody tr th:only-of-type {\n",
              "        vertical-align: middle;\n",
              "    }\n",
              "\n",
              "    .dataframe tbody tr th {\n",
              "        vertical-align: top;\n",
              "    }\n",
              "\n",
              "    .dataframe thead th {\n",
              "        text-align: right;\n",
              "    }\n",
              "</style>\n",
              "<table border=\"1\" class=\"dataframe\">\n",
              "  <thead>\n",
              "    <tr style=\"text-align: right;\">\n",
              "      <th></th>\n",
              "      <th>Channel</th>\n",
              "      <th>Region</th>\n",
              "      <th>Fresh</th>\n",
              "      <th>Milk</th>\n",
              "      <th>Grocery</th>\n",
              "      <th>Frozen</th>\n",
              "      <th>Detergents_Paper</th>\n",
              "      <th>Delicassen</th>\n",
              "      <th>cluster5</th>\n",
              "    </tr>\n",
              "  </thead>\n",
              "  <tbody>\n",
              "    <tr>\n",
              "      <th>0</th>\n",
              "      <td>2</td>\n",
              "      <td>3</td>\n",
              "      <td>12669</td>\n",
              "      <td>9656</td>\n",
              "      <td>7561</td>\n",
              "      <td>214</td>\n",
              "      <td>2674</td>\n",
              "      <td>1338</td>\n",
              "      <td>2</td>\n",
              "    </tr>\n",
              "    <tr>\n",
              "      <th>1</th>\n",
              "      <td>2</td>\n",
              "      <td>3</td>\n",
              "      <td>7057</td>\n",
              "      <td>9810</td>\n",
              "      <td>9568</td>\n",
              "      <td>1762</td>\n",
              "      <td>3293</td>\n",
              "      <td>1776</td>\n",
              "      <td>2</td>\n",
              "    </tr>\n",
              "    <tr>\n",
              "      <th>2</th>\n",
              "      <td>2</td>\n",
              "      <td>3</td>\n",
              "      <td>6353</td>\n",
              "      <td>8808</td>\n",
              "      <td>7684</td>\n",
              "      <td>2405</td>\n",
              "      <td>3516</td>\n",
              "      <td>7844</td>\n",
              "      <td>2</td>\n",
              "    </tr>\n",
              "    <tr>\n",
              "      <th>3</th>\n",
              "      <td>1</td>\n",
              "      <td>3</td>\n",
              "      <td>13265</td>\n",
              "      <td>1196</td>\n",
              "      <td>4221</td>\n",
              "      <td>6404</td>\n",
              "      <td>507</td>\n",
              "      <td>1788</td>\n",
              "      <td>1</td>\n",
              "    </tr>\n",
              "    <tr>\n",
              "      <th>4</th>\n",
              "      <td>2</td>\n",
              "      <td>3</td>\n",
              "      <td>22615</td>\n",
              "      <td>5410</td>\n",
              "      <td>7198</td>\n",
              "      <td>3915</td>\n",
              "      <td>1777</td>\n",
              "      <td>5185</td>\n",
              "      <td>2</td>\n",
              "    </tr>\n",
              "    <tr>\n",
              "      <th>...</th>\n",
              "      <td>...</td>\n",
              "      <td>...</td>\n",
              "      <td>...</td>\n",
              "      <td>...</td>\n",
              "      <td>...</td>\n",
              "      <td>...</td>\n",
              "      <td>...</td>\n",
              "      <td>...</td>\n",
              "      <td>...</td>\n",
              "    </tr>\n",
              "    <tr>\n",
              "      <th>435</th>\n",
              "      <td>1</td>\n",
              "      <td>3</td>\n",
              "      <td>29703</td>\n",
              "      <td>12051</td>\n",
              "      <td>16027</td>\n",
              "      <td>13135</td>\n",
              "      <td>182</td>\n",
              "      <td>2204</td>\n",
              "      <td>1</td>\n",
              "    </tr>\n",
              "    <tr>\n",
              "      <th>436</th>\n",
              "      <td>1</td>\n",
              "      <td>3</td>\n",
              "      <td>39228</td>\n",
              "      <td>1431</td>\n",
              "      <td>764</td>\n",
              "      <td>4510</td>\n",
              "      <td>93</td>\n",
              "      <td>2346</td>\n",
              "      <td>1</td>\n",
              "    </tr>\n",
              "    <tr>\n",
              "      <th>437</th>\n",
              "      <td>2</td>\n",
              "      <td>3</td>\n",
              "      <td>14531</td>\n",
              "      <td>15488</td>\n",
              "      <td>30243</td>\n",
              "      <td>437</td>\n",
              "      <td>14841</td>\n",
              "      <td>1867</td>\n",
              "      <td>2</td>\n",
              "    </tr>\n",
              "    <tr>\n",
              "      <th>438</th>\n",
              "      <td>1</td>\n",
              "      <td>3</td>\n",
              "      <td>10290</td>\n",
              "      <td>1981</td>\n",
              "      <td>2232</td>\n",
              "      <td>1038</td>\n",
              "      <td>168</td>\n",
              "      <td>2125</td>\n",
              "      <td>1</td>\n",
              "    </tr>\n",
              "    <tr>\n",
              "      <th>439</th>\n",
              "      <td>1</td>\n",
              "      <td>3</td>\n",
              "      <td>2787</td>\n",
              "      <td>1698</td>\n",
              "      <td>2510</td>\n",
              "      <td>65</td>\n",
              "      <td>477</td>\n",
              "      <td>52</td>\n",
              "      <td>1</td>\n",
              "    </tr>\n",
              "  </tbody>\n",
              "</table>\n",
              "<p>440 rows × 9 columns</p>\n",
              "</div>\n",
              "      <button class=\"colab-df-convert\" onclick=\"convertToInteractive('df-cb343070-60a9-4eb7-b2f3-53ab2c97d5e0')\"\n",
              "              title=\"Convert this dataframe to an interactive table.\"\n",
              "              style=\"display:none;\">\n",
              "        \n",
              "  <svg xmlns=\"http://www.w3.org/2000/svg\" height=\"24px\"viewBox=\"0 0 24 24\"\n",
              "       width=\"24px\">\n",
              "    <path d=\"M0 0h24v24H0V0z\" fill=\"none\"/>\n",
              "    <path d=\"M18.56 5.44l.94 2.06.94-2.06 2.06-.94-2.06-.94-.94-2.06-.94 2.06-2.06.94zm-11 1L8.5 8.5l.94-2.06 2.06-.94-2.06-.94L8.5 2.5l-.94 2.06-2.06.94zm10 10l.94 2.06.94-2.06 2.06-.94-2.06-.94-.94-2.06-.94 2.06-2.06.94z\"/><path d=\"M17.41 7.96l-1.37-1.37c-.4-.4-.92-.59-1.43-.59-.52 0-1.04.2-1.43.59L10.3 9.45l-7.72 7.72c-.78.78-.78 2.05 0 2.83L4 21.41c.39.39.9.59 1.41.59.51 0 1.02-.2 1.41-.59l7.78-7.78 2.81-2.81c.8-.78.8-2.07 0-2.86zM5.41 20L4 18.59l7.72-7.72 1.47 1.35L5.41 20z\"/>\n",
              "  </svg>\n",
              "      </button>\n",
              "      \n",
              "  <style>\n",
              "    .colab-df-container {\n",
              "      display:flex;\n",
              "      flex-wrap:wrap;\n",
              "      gap: 12px;\n",
              "    }\n",
              "\n",
              "    .colab-df-convert {\n",
              "      background-color: #E8F0FE;\n",
              "      border: none;\n",
              "      border-radius: 50%;\n",
              "      cursor: pointer;\n",
              "      display: none;\n",
              "      fill: #1967D2;\n",
              "      height: 32px;\n",
              "      padding: 0 0 0 0;\n",
              "      width: 32px;\n",
              "    }\n",
              "\n",
              "    .colab-df-convert:hover {\n",
              "      background-color: #E2EBFA;\n",
              "      box-shadow: 0px 1px 2px rgba(60, 64, 67, 0.3), 0px 1px 3px 1px rgba(60, 64, 67, 0.15);\n",
              "      fill: #174EA6;\n",
              "    }\n",
              "\n",
              "    [theme=dark] .colab-df-convert {\n",
              "      background-color: #3B4455;\n",
              "      fill: #D2E3FC;\n",
              "    }\n",
              "\n",
              "    [theme=dark] .colab-df-convert:hover {\n",
              "      background-color: #434B5C;\n",
              "      box-shadow: 0px 1px 3px 1px rgba(0, 0, 0, 0.15);\n",
              "      filter: drop-shadow(0px 1px 2px rgba(0, 0, 0, 0.3));\n",
              "      fill: #FFFFFF;\n",
              "    }\n",
              "  </style>\n",
              "\n",
              "      <script>\n",
              "        const buttonEl =\n",
              "          document.querySelector('#df-cb343070-60a9-4eb7-b2f3-53ab2c97d5e0 button.colab-df-convert');\n",
              "        buttonEl.style.display =\n",
              "          google.colab.kernel.accessAllowed ? 'block' : 'none';\n",
              "\n",
              "        async function convertToInteractive(key) {\n",
              "          const element = document.querySelector('#df-cb343070-60a9-4eb7-b2f3-53ab2c97d5e0');\n",
              "          const dataTable =\n",
              "            await google.colab.kernel.invokeFunction('convertToInteractive',\n",
              "                                                     [key], {});\n",
              "          if (!dataTable) return;\n",
              "\n",
              "          const docLinkHtml = 'Like what you see? Visit the ' +\n",
              "            '<a target=\"_blank\" href=https://colab.research.google.com/notebooks/data_table.ipynb>data table notebook</a>'\n",
              "            + ' to learn more about interactive tables.';\n",
              "          element.innerHTML = '';\n",
              "          dataTable['output_type'] = 'display_data';\n",
              "          await google.colab.output.renderOutput(dataTable, element);\n",
              "          const docLink = document.createElement('div');\n",
              "          docLink.innerHTML = docLinkHtml;\n",
              "          element.appendChild(docLink);\n",
              "        }\n",
              "      </script>\n",
              "    </div>\n",
              "  </div>\n",
              "  "
            ]
          },
          "metadata": {},
          "execution_count": 33
        }
      ]
    },
    {
      "cell_type": "code",
      "source": [
        "sale['cluster5'].value_counts()"
      ],
      "metadata": {
        "colab": {
          "base_uri": "https://localhost:8080/"
        },
        "id": "WzolvhsNbVHy",
        "outputId": "ba979b56-8909-494b-fba6-bdb85889c542"
      },
      "execution_count": null,
      "outputs": [
        {
          "output_type": "execute_result",
          "data": {
            "text/plain": [
              "1    209\n",
              "2    107\n",
              "0     65\n",
              "4     46\n",
              "3     13\n",
              "Name: cluster5, dtype: int64"
            ]
          },
          "metadata": {},
          "execution_count": 34
        }
      ]
    },
    {
      "cell_type": "code",
      "source": [
        "cluster_1 = (sale['cluster5'].value_counts())[0]   # valor 0 na tabela\n",
        "cluster_2 = (sale['cluster5'].value_counts())[1]   # valor 1 na tabela\n",
        "cluster_3 = (sale['cluster5'].value_counts())[2]   # valor 2 na tabela\n",
        "cluster_4 = (sale['cluster5'].value_counts())[3]   # valor 3 na tabela\n",
        "cluster_5 = (sale['cluster5'].value_counts())[4]   # valor 4 na tabela"
      ],
      "metadata": {
        "id": "RQLd9IcsaKTV"
      },
      "execution_count": null,
      "outputs": []
    },
    {
      "cell_type": "code",
      "execution_count": null,
      "metadata": {
        "id": "cm32sMwWkAPf",
        "outputId": "470b31fa-b221-48bf-bc7f-f3857451f44f",
        "colab": {
          "base_uri": "https://localhost:8080/"
        }
      },
      "outputs": [
        {
          "output_type": "stream",
          "name": "stdout",
          "text": [
            "Total de observações do cluster 1: 65\n",
            "Total de observações do cluster 2: 209\n",
            "Total de observações do cluster 3: 107\n",
            "Total de observações do cluster 4: 13\n",
            "Total de observações do cluster 5: 46\n"
          ]
        }
      ],
      "source": [
        "#### VALE 0.5 pontos\n",
        "# Substitua __ pelos valores solicitados\n",
        "print('Total de observações do cluster 1: {}'.format(cluster_1))\n",
        "print('Total de observações do cluster 2: {}'.format(cluster_2))\n",
        "print('Total de observações do cluster 3: {}'.format(cluster_3))\n",
        "print('Total de observações do cluster 4: {}'.format(cluster_4))\n",
        "print('Total de observações do cluster 5: {}'.format(cluster_5))\n",
        "# copie a linha de cima, alterando o cluster e preenchendo o total"
      ]
    },
    {
      "cell_type": "markdown",
      "metadata": {
        "id": "0woZRbt5kAPg"
      },
      "source": [
        "# Exercicio 2. (4.0 pontos)\n",
        "\n",
        "Escolha dois clusters e separe os dados em dois subconjuntos, chamando-os de clusterA e clusterB."
      ]
    },
    {
      "cell_type": "code",
      "execution_count": null,
      "metadata": {
        "id": "WlJgovY4kAPg"
      },
      "outputs": [],
      "source": [
        "#### VALE 1.0 ponto\n",
        "#### EXECUTE OS COMANDOS ABAIXO, USE MAIS CELULAS SE NECESSARIO\n",
        "\n",
        "clusterA = sale[sale['cluster5'] == 0]\n",
        "clusterB = sale[sale['cluster5'] == 4]"
      ]
    },
    {
      "cell_type": "markdown",
      "metadata": {
        "id": "0FXA2BD7kAPh"
      },
      "source": [
        "Utilizaremos a função **.describe()** para obtermos as medidas de média, desvio padrão, valor minimo e valor máximo dos subconjuntos clusterA e clusterB"
      ]
    },
    {
      "cell_type": "code",
      "execution_count": null,
      "metadata": {
        "id": "Y11aiXLXkAPh",
        "colab": {
          "base_uri": "https://localhost:8080/",
          "height": 300
        },
        "outputId": "9a99e946-d233-49d9-d8b5-2394ae56e142"
      },
      "outputs": [
        {
          "output_type": "execute_result",
          "data": {
            "text/plain": [
              "         Channel  Region         Fresh          Milk       Grocery  \\\n",
              "count  65.000000    65.0     65.000000     65.000000     65.000000   \n",
              "mean    1.092308     1.0  12357.030769   4017.907692   4391.969231   \n",
              "std     0.291712     0.0  12061.962167   4143.922854   3718.565676   \n",
              "min     1.000000     1.0    514.000000    258.000000    489.000000   \n",
              "25%     1.000000     1.0   3317.000000   1115.000000   1777.000000   \n",
              "50%     1.000000     1.0   8635.000000   2567.000000   2914.000000   \n",
              "75%     1.000000     1.0  18044.000000   5279.000000   5838.000000   \n",
              "max     2.000000     1.0  56083.000000  23527.000000  16966.000000   \n",
              "\n",
              "             Frozen  Detergents_Paper   Delicassen  cluster5  \n",
              "count     65.000000         65.000000    65.000000      65.0  \n",
              "mean    3156.769231       1168.907692  1200.938462       0.0  \n",
              "std     3227.185111       1550.658960  1177.613873       0.0  \n",
              "min       91.000000          5.000000     7.000000       0.0  \n",
              "25%      982.000000        244.000000   375.000000       0.0  \n",
              "50%     1859.000000        430.000000   791.000000       0.0  \n",
              "75%     4634.000000        967.000000  1553.000000       0.0  \n",
              "max    18711.000000       5957.000000  6854.000000       0.0  "
            ],
            "text/html": [
              "\n",
              "  <div id=\"df-57953a85-8a67-4fda-be6d-af058692c6fa\">\n",
              "    <div class=\"colab-df-container\">\n",
              "      <div>\n",
              "<style scoped>\n",
              "    .dataframe tbody tr th:only-of-type {\n",
              "        vertical-align: middle;\n",
              "    }\n",
              "\n",
              "    .dataframe tbody tr th {\n",
              "        vertical-align: top;\n",
              "    }\n",
              "\n",
              "    .dataframe thead th {\n",
              "        text-align: right;\n",
              "    }\n",
              "</style>\n",
              "<table border=\"1\" class=\"dataframe\">\n",
              "  <thead>\n",
              "    <tr style=\"text-align: right;\">\n",
              "      <th></th>\n",
              "      <th>Channel</th>\n",
              "      <th>Region</th>\n",
              "      <th>Fresh</th>\n",
              "      <th>Milk</th>\n",
              "      <th>Grocery</th>\n",
              "      <th>Frozen</th>\n",
              "      <th>Detergents_Paper</th>\n",
              "      <th>Delicassen</th>\n",
              "      <th>cluster5</th>\n",
              "    </tr>\n",
              "  </thead>\n",
              "  <tbody>\n",
              "    <tr>\n",
              "      <th>count</th>\n",
              "      <td>65.000000</td>\n",
              "      <td>65.0</td>\n",
              "      <td>65.000000</td>\n",
              "      <td>65.000000</td>\n",
              "      <td>65.000000</td>\n",
              "      <td>65.000000</td>\n",
              "      <td>65.000000</td>\n",
              "      <td>65.000000</td>\n",
              "      <td>65.0</td>\n",
              "    </tr>\n",
              "    <tr>\n",
              "      <th>mean</th>\n",
              "      <td>1.092308</td>\n",
              "      <td>1.0</td>\n",
              "      <td>12357.030769</td>\n",
              "      <td>4017.907692</td>\n",
              "      <td>4391.969231</td>\n",
              "      <td>3156.769231</td>\n",
              "      <td>1168.907692</td>\n",
              "      <td>1200.938462</td>\n",
              "      <td>0.0</td>\n",
              "    </tr>\n",
              "    <tr>\n",
              "      <th>std</th>\n",
              "      <td>0.291712</td>\n",
              "      <td>0.0</td>\n",
              "      <td>12061.962167</td>\n",
              "      <td>4143.922854</td>\n",
              "      <td>3718.565676</td>\n",
              "      <td>3227.185111</td>\n",
              "      <td>1550.658960</td>\n",
              "      <td>1177.613873</td>\n",
              "      <td>0.0</td>\n",
              "    </tr>\n",
              "    <tr>\n",
              "      <th>min</th>\n",
              "      <td>1.000000</td>\n",
              "      <td>1.0</td>\n",
              "      <td>514.000000</td>\n",
              "      <td>258.000000</td>\n",
              "      <td>489.000000</td>\n",
              "      <td>91.000000</td>\n",
              "      <td>5.000000</td>\n",
              "      <td>7.000000</td>\n",
              "      <td>0.0</td>\n",
              "    </tr>\n",
              "    <tr>\n",
              "      <th>25%</th>\n",
              "      <td>1.000000</td>\n",
              "      <td>1.0</td>\n",
              "      <td>3317.000000</td>\n",
              "      <td>1115.000000</td>\n",
              "      <td>1777.000000</td>\n",
              "      <td>982.000000</td>\n",
              "      <td>244.000000</td>\n",
              "      <td>375.000000</td>\n",
              "      <td>0.0</td>\n",
              "    </tr>\n",
              "    <tr>\n",
              "      <th>50%</th>\n",
              "      <td>1.000000</td>\n",
              "      <td>1.0</td>\n",
              "      <td>8635.000000</td>\n",
              "      <td>2567.000000</td>\n",
              "      <td>2914.000000</td>\n",
              "      <td>1859.000000</td>\n",
              "      <td>430.000000</td>\n",
              "      <td>791.000000</td>\n",
              "      <td>0.0</td>\n",
              "    </tr>\n",
              "    <tr>\n",
              "      <th>75%</th>\n",
              "      <td>1.000000</td>\n",
              "      <td>1.0</td>\n",
              "      <td>18044.000000</td>\n",
              "      <td>5279.000000</td>\n",
              "      <td>5838.000000</td>\n",
              "      <td>4634.000000</td>\n",
              "      <td>967.000000</td>\n",
              "      <td>1553.000000</td>\n",
              "      <td>0.0</td>\n",
              "    </tr>\n",
              "    <tr>\n",
              "      <th>max</th>\n",
              "      <td>2.000000</td>\n",
              "      <td>1.0</td>\n",
              "      <td>56083.000000</td>\n",
              "      <td>23527.000000</td>\n",
              "      <td>16966.000000</td>\n",
              "      <td>18711.000000</td>\n",
              "      <td>5957.000000</td>\n",
              "      <td>6854.000000</td>\n",
              "      <td>0.0</td>\n",
              "    </tr>\n",
              "  </tbody>\n",
              "</table>\n",
              "</div>\n",
              "      <button class=\"colab-df-convert\" onclick=\"convertToInteractive('df-57953a85-8a67-4fda-be6d-af058692c6fa')\"\n",
              "              title=\"Convert this dataframe to an interactive table.\"\n",
              "              style=\"display:none;\">\n",
              "        \n",
              "  <svg xmlns=\"http://www.w3.org/2000/svg\" height=\"24px\"viewBox=\"0 0 24 24\"\n",
              "       width=\"24px\">\n",
              "    <path d=\"M0 0h24v24H0V0z\" fill=\"none\"/>\n",
              "    <path d=\"M18.56 5.44l.94 2.06.94-2.06 2.06-.94-2.06-.94-.94-2.06-.94 2.06-2.06.94zm-11 1L8.5 8.5l.94-2.06 2.06-.94-2.06-.94L8.5 2.5l-.94 2.06-2.06.94zm10 10l.94 2.06.94-2.06 2.06-.94-2.06-.94-.94-2.06-.94 2.06-2.06.94z\"/><path d=\"M17.41 7.96l-1.37-1.37c-.4-.4-.92-.59-1.43-.59-.52 0-1.04.2-1.43.59L10.3 9.45l-7.72 7.72c-.78.78-.78 2.05 0 2.83L4 21.41c.39.39.9.59 1.41.59.51 0 1.02-.2 1.41-.59l7.78-7.78 2.81-2.81c.8-.78.8-2.07 0-2.86zM5.41 20L4 18.59l7.72-7.72 1.47 1.35L5.41 20z\"/>\n",
              "  </svg>\n",
              "      </button>\n",
              "      \n",
              "  <style>\n",
              "    .colab-df-container {\n",
              "      display:flex;\n",
              "      flex-wrap:wrap;\n",
              "      gap: 12px;\n",
              "    }\n",
              "\n",
              "    .colab-df-convert {\n",
              "      background-color: #E8F0FE;\n",
              "      border: none;\n",
              "      border-radius: 50%;\n",
              "      cursor: pointer;\n",
              "      display: none;\n",
              "      fill: #1967D2;\n",
              "      height: 32px;\n",
              "      padding: 0 0 0 0;\n",
              "      width: 32px;\n",
              "    }\n",
              "\n",
              "    .colab-df-convert:hover {\n",
              "      background-color: #E2EBFA;\n",
              "      box-shadow: 0px 1px 2px rgba(60, 64, 67, 0.3), 0px 1px 3px 1px rgba(60, 64, 67, 0.15);\n",
              "      fill: #174EA6;\n",
              "    }\n",
              "\n",
              "    [theme=dark] .colab-df-convert {\n",
              "      background-color: #3B4455;\n",
              "      fill: #D2E3FC;\n",
              "    }\n",
              "\n",
              "    [theme=dark] .colab-df-convert:hover {\n",
              "      background-color: #434B5C;\n",
              "      box-shadow: 0px 1px 3px 1px rgba(0, 0, 0, 0.15);\n",
              "      filter: drop-shadow(0px 1px 2px rgba(0, 0, 0, 0.3));\n",
              "      fill: #FFFFFF;\n",
              "    }\n",
              "  </style>\n",
              "\n",
              "      <script>\n",
              "        const buttonEl =\n",
              "          document.querySelector('#df-57953a85-8a67-4fda-be6d-af058692c6fa button.colab-df-convert');\n",
              "        buttonEl.style.display =\n",
              "          google.colab.kernel.accessAllowed ? 'block' : 'none';\n",
              "\n",
              "        async function convertToInteractive(key) {\n",
              "          const element = document.querySelector('#df-57953a85-8a67-4fda-be6d-af058692c6fa');\n",
              "          const dataTable =\n",
              "            await google.colab.kernel.invokeFunction('convertToInteractive',\n",
              "                                                     [key], {});\n",
              "          if (!dataTable) return;\n",
              "\n",
              "          const docLinkHtml = 'Like what you see? Visit the ' +\n",
              "            '<a target=\"_blank\" href=https://colab.research.google.com/notebooks/data_table.ipynb>data table notebook</a>'\n",
              "            + ' to learn more about interactive tables.';\n",
              "          element.innerHTML = '';\n",
              "          dataTable['output_type'] = 'display_data';\n",
              "          await google.colab.output.renderOutput(dataTable, element);\n",
              "          const docLink = document.createElement('div');\n",
              "          docLink.innerHTML = docLinkHtml;\n",
              "          element.appendChild(docLink);\n",
              "        }\n",
              "      </script>\n",
              "    </div>\n",
              "  </div>\n",
              "  "
            ]
          },
          "metadata": {},
          "execution_count": 38
        }
      ],
      "source": [
        "#### VALE 1.0 ponto\n",
        "#### EXECUTE O COMANDO ABAIXO PARA clusterA\n",
        "\n",
        "clusterA.describe()"
      ]
    },
    {
      "cell_type": "code",
      "execution_count": null,
      "metadata": {
        "id": "dGbPWS5EkAPi",
        "colab": {
          "base_uri": "https://localhost:8080/",
          "height": 300
        },
        "outputId": "d25e6366-3f3c-4273-9127-fd745b0524a4"
      },
      "outputs": [
        {
          "output_type": "execute_result",
          "data": {
            "text/plain": [
              "         Channel  Region         Fresh          Milk       Grocery  \\\n",
              "count  46.000000    46.0     46.000000     46.000000     46.000000   \n",
              "mean    1.391304     2.0   9916.434783   5090.521739   7956.000000   \n",
              "std     0.493435     0.0   8478.243698   5890.702032   6602.100316   \n",
              "min     1.000000     2.0      3.000000    333.000000   1330.000000   \n",
              "25%     1.000000     2.0   2684.250000   1402.750000   2767.750000   \n",
              "50%     1.000000     2.0   7839.000000   2354.500000   5723.000000   \n",
              "75%     2.000000     2.0  15403.250000   6007.750000  11392.250000   \n",
              "max     2.000000     2.0  32717.000000  25071.000000  26839.000000   \n",
              "\n",
              "             Frozen  Detergents_Paper   Delicassen  cluster5  \n",
              "count     46.000000         46.000000    46.000000      46.0  \n",
              "mean    4130.456522       2939.326087  1158.500000       4.0  \n",
              "std     9234.094315       4061.209908  1062.317901       0.0  \n",
              "min      264.000000         15.000000    51.000000       4.0  \n",
              "25%      843.500000        278.750000   535.750000       4.0  \n",
              "50%     1460.000000        760.500000   883.000000       4.0  \n",
              "75%     3385.000000       4060.500000  1540.750000       4.0  \n",
              "max    60869.000000      17120.000000  5609.000000       4.0  "
            ],
            "text/html": [
              "\n",
              "  <div id=\"df-b5f2c467-0c2d-4822-a011-48f71606ea22\">\n",
              "    <div class=\"colab-df-container\">\n",
              "      <div>\n",
              "<style scoped>\n",
              "    .dataframe tbody tr th:only-of-type {\n",
              "        vertical-align: middle;\n",
              "    }\n",
              "\n",
              "    .dataframe tbody tr th {\n",
              "        vertical-align: top;\n",
              "    }\n",
              "\n",
              "    .dataframe thead th {\n",
              "        text-align: right;\n",
              "    }\n",
              "</style>\n",
              "<table border=\"1\" class=\"dataframe\">\n",
              "  <thead>\n",
              "    <tr style=\"text-align: right;\">\n",
              "      <th></th>\n",
              "      <th>Channel</th>\n",
              "      <th>Region</th>\n",
              "      <th>Fresh</th>\n",
              "      <th>Milk</th>\n",
              "      <th>Grocery</th>\n",
              "      <th>Frozen</th>\n",
              "      <th>Detergents_Paper</th>\n",
              "      <th>Delicassen</th>\n",
              "      <th>cluster5</th>\n",
              "    </tr>\n",
              "  </thead>\n",
              "  <tbody>\n",
              "    <tr>\n",
              "      <th>count</th>\n",
              "      <td>46.000000</td>\n",
              "      <td>46.0</td>\n",
              "      <td>46.000000</td>\n",
              "      <td>46.000000</td>\n",
              "      <td>46.000000</td>\n",
              "      <td>46.000000</td>\n",
              "      <td>46.000000</td>\n",
              "      <td>46.000000</td>\n",
              "      <td>46.0</td>\n",
              "    </tr>\n",
              "    <tr>\n",
              "      <th>mean</th>\n",
              "      <td>1.391304</td>\n",
              "      <td>2.0</td>\n",
              "      <td>9916.434783</td>\n",
              "      <td>5090.521739</td>\n",
              "      <td>7956.000000</td>\n",
              "      <td>4130.456522</td>\n",
              "      <td>2939.326087</td>\n",
              "      <td>1158.500000</td>\n",
              "      <td>4.0</td>\n",
              "    </tr>\n",
              "    <tr>\n",
              "      <th>std</th>\n",
              "      <td>0.493435</td>\n",
              "      <td>0.0</td>\n",
              "      <td>8478.243698</td>\n",
              "      <td>5890.702032</td>\n",
              "      <td>6602.100316</td>\n",
              "      <td>9234.094315</td>\n",
              "      <td>4061.209908</td>\n",
              "      <td>1062.317901</td>\n",
              "      <td>0.0</td>\n",
              "    </tr>\n",
              "    <tr>\n",
              "      <th>min</th>\n",
              "      <td>1.000000</td>\n",
              "      <td>2.0</td>\n",
              "      <td>3.000000</td>\n",
              "      <td>333.000000</td>\n",
              "      <td>1330.000000</td>\n",
              "      <td>264.000000</td>\n",
              "      <td>15.000000</td>\n",
              "      <td>51.000000</td>\n",
              "      <td>4.0</td>\n",
              "    </tr>\n",
              "    <tr>\n",
              "      <th>25%</th>\n",
              "      <td>1.000000</td>\n",
              "      <td>2.0</td>\n",
              "      <td>2684.250000</td>\n",
              "      <td>1402.750000</td>\n",
              "      <td>2767.750000</td>\n",
              "      <td>843.500000</td>\n",
              "      <td>278.750000</td>\n",
              "      <td>535.750000</td>\n",
              "      <td>4.0</td>\n",
              "    </tr>\n",
              "    <tr>\n",
              "      <th>50%</th>\n",
              "      <td>1.000000</td>\n",
              "      <td>2.0</td>\n",
              "      <td>7839.000000</td>\n",
              "      <td>2354.500000</td>\n",
              "      <td>5723.000000</td>\n",
              "      <td>1460.000000</td>\n",
              "      <td>760.500000</td>\n",
              "      <td>883.000000</td>\n",
              "      <td>4.0</td>\n",
              "    </tr>\n",
              "    <tr>\n",
              "      <th>75%</th>\n",
              "      <td>2.000000</td>\n",
              "      <td>2.0</td>\n",
              "      <td>15403.250000</td>\n",
              "      <td>6007.750000</td>\n",
              "      <td>11392.250000</td>\n",
              "      <td>3385.000000</td>\n",
              "      <td>4060.500000</td>\n",
              "      <td>1540.750000</td>\n",
              "      <td>4.0</td>\n",
              "    </tr>\n",
              "    <tr>\n",
              "      <th>max</th>\n",
              "      <td>2.000000</td>\n",
              "      <td>2.0</td>\n",
              "      <td>32717.000000</td>\n",
              "      <td>25071.000000</td>\n",
              "      <td>26839.000000</td>\n",
              "      <td>60869.000000</td>\n",
              "      <td>17120.000000</td>\n",
              "      <td>5609.000000</td>\n",
              "      <td>4.0</td>\n",
              "    </tr>\n",
              "  </tbody>\n",
              "</table>\n",
              "</div>\n",
              "      <button class=\"colab-df-convert\" onclick=\"convertToInteractive('df-b5f2c467-0c2d-4822-a011-48f71606ea22')\"\n",
              "              title=\"Convert this dataframe to an interactive table.\"\n",
              "              style=\"display:none;\">\n",
              "        \n",
              "  <svg xmlns=\"http://www.w3.org/2000/svg\" height=\"24px\"viewBox=\"0 0 24 24\"\n",
              "       width=\"24px\">\n",
              "    <path d=\"M0 0h24v24H0V0z\" fill=\"none\"/>\n",
              "    <path d=\"M18.56 5.44l.94 2.06.94-2.06 2.06-.94-2.06-.94-.94-2.06-.94 2.06-2.06.94zm-11 1L8.5 8.5l.94-2.06 2.06-.94-2.06-.94L8.5 2.5l-.94 2.06-2.06.94zm10 10l.94 2.06.94-2.06 2.06-.94-2.06-.94-.94-2.06-.94 2.06-2.06.94z\"/><path d=\"M17.41 7.96l-1.37-1.37c-.4-.4-.92-.59-1.43-.59-.52 0-1.04.2-1.43.59L10.3 9.45l-7.72 7.72c-.78.78-.78 2.05 0 2.83L4 21.41c.39.39.9.59 1.41.59.51 0 1.02-.2 1.41-.59l7.78-7.78 2.81-2.81c.8-.78.8-2.07 0-2.86zM5.41 20L4 18.59l7.72-7.72 1.47 1.35L5.41 20z\"/>\n",
              "  </svg>\n",
              "      </button>\n",
              "      \n",
              "  <style>\n",
              "    .colab-df-container {\n",
              "      display:flex;\n",
              "      flex-wrap:wrap;\n",
              "      gap: 12px;\n",
              "    }\n",
              "\n",
              "    .colab-df-convert {\n",
              "      background-color: #E8F0FE;\n",
              "      border: none;\n",
              "      border-radius: 50%;\n",
              "      cursor: pointer;\n",
              "      display: none;\n",
              "      fill: #1967D2;\n",
              "      height: 32px;\n",
              "      padding: 0 0 0 0;\n",
              "      width: 32px;\n",
              "    }\n",
              "\n",
              "    .colab-df-convert:hover {\n",
              "      background-color: #E2EBFA;\n",
              "      box-shadow: 0px 1px 2px rgba(60, 64, 67, 0.3), 0px 1px 3px 1px rgba(60, 64, 67, 0.15);\n",
              "      fill: #174EA6;\n",
              "    }\n",
              "\n",
              "    [theme=dark] .colab-df-convert {\n",
              "      background-color: #3B4455;\n",
              "      fill: #D2E3FC;\n",
              "    }\n",
              "\n",
              "    [theme=dark] .colab-df-convert:hover {\n",
              "      background-color: #434B5C;\n",
              "      box-shadow: 0px 1px 3px 1px rgba(0, 0, 0, 0.15);\n",
              "      filter: drop-shadow(0px 1px 2px rgba(0, 0, 0, 0.3));\n",
              "      fill: #FFFFFF;\n",
              "    }\n",
              "  </style>\n",
              "\n",
              "      <script>\n",
              "        const buttonEl =\n",
              "          document.querySelector('#df-b5f2c467-0c2d-4822-a011-48f71606ea22 button.colab-df-convert');\n",
              "        buttonEl.style.display =\n",
              "          google.colab.kernel.accessAllowed ? 'block' : 'none';\n",
              "\n",
              "        async function convertToInteractive(key) {\n",
              "          const element = document.querySelector('#df-b5f2c467-0c2d-4822-a011-48f71606ea22');\n",
              "          const dataTable =\n",
              "            await google.colab.kernel.invokeFunction('convertToInteractive',\n",
              "                                                     [key], {});\n",
              "          if (!dataTable) return;\n",
              "\n",
              "          const docLinkHtml = 'Like what you see? Visit the ' +\n",
              "            '<a target=\"_blank\" href=https://colab.research.google.com/notebooks/data_table.ipynb>data table notebook</a>'\n",
              "            + ' to learn more about interactive tables.';\n",
              "          element.innerHTML = '';\n",
              "          dataTable['output_type'] = 'display_data';\n",
              "          await google.colab.output.renderOutput(dataTable, element);\n",
              "          const docLink = document.createElement('div');\n",
              "          docLink.innerHTML = docLinkHtml;\n",
              "          element.appendChild(docLink);\n",
              "        }\n",
              "      </script>\n",
              "    </div>\n",
              "  </div>\n",
              "  "
            ]
          },
          "metadata": {},
          "execution_count": 39
        }
      ],
      "source": [
        "#### VALE 1.0 ponto\n",
        "#### EXECUTE O COMANDO ABAIXO PARA clusterB\n",
        "\n",
        "clusterB.describe()"
      ]
    },
    {
      "cell_type": "markdown",
      "metadata": {
        "id": "o4JmB6dKkAPi"
      },
      "source": [
        "Comparando as médias, valores minimos e máximos obtidos, há diferença entre o subconjunto clusterA e clusterB?"
      ]
    },
    {
      "cell_type": "code",
      "source": [
        "def boxplot_cluster(colunas_cluster):\n",
        "  plt.figure(figsize=(12,4))\n",
        "  plt.subplot(131); clusterA.boxplot([colunas_cluster]); plt.title('ClusterA')\n",
        "  plt.subplot(132); clusterB.boxplot([colunas_cluster]); plt.title('ClusterB')\n",
        "  # plt.subplot(133); dc_std.boxplot([colum]); plt.title('Nova Análise')\n",
        "  plt.show()\n"
      ],
      "metadata": {
        "id": "9gatISRDkh1l"
      },
      "execution_count": null,
      "outputs": []
    },
    {
      "cell_type": "code",
      "source": [
        "colunas_cluster = \"Fresh\"\n",
        "boxplot_cluster(colunas_cluster)\n",
        "colunas_cluster = \"Milk\"\n",
        "boxplot_cluster(colunas_cluster)\n",
        "colunas_cluster = \"Grocery\"\n",
        "boxplot_cluster(colunas_cluster)\n",
        "colunas_cluster = \"Frozen\"\n",
        "boxplot_cluster(colunas_cluster)\n",
        "colunas_cluster = \"Detergents_Paper\"\n",
        "boxplot_cluster(colunas_cluster)\n",
        "colunas_cluster = \"Delicassen\"\n",
        "boxplot_cluster(colunas_cluster)"
      ],
      "metadata": {
        "colab": {
          "base_uri": "https://localhost:8080/",
          "height": 1000
        },
        "id": "XuZfw_GEqhFT",
        "outputId": "c9320a9e-109f-4879-dbf8-b74605edd6b2"
      },
      "execution_count": null,
      "outputs": [
        {
          "output_type": "display_data",
          "data": {
            "text/plain": [
              "<Figure size 864x288 with 2 Axes>"
            ],
            "image/png": "[encoded data removed]"
          },
          "metadata": {
            "needs_background": "light"
          }
        },
        {
          "output_type": "display_data",
          "data": {
            "text/plain": [
              "<Figure size 864x288 with 2 Axes>"
            ],
            "image/png": "[encoded data removed]"
          },
          "metadata": {
            "needs_background": "light"
          }
        },
        {
          "output_type": "display_data",
          "data": {
            "text/plain": [
              "<Figure size 864x288 with 2 Axes>"
            ],
            "image/png": "[encoded data removed]"
          },
          "metadata": {
            "needs_background": "light"
          }
        },
        {
          "output_type": "display_data",
          "data": {
            "text/plain": [
              "<Figure size 864x288 with 2 Axes>"
            ],
            "image/png": "[encoded data removed]"
          },
          "metadata": {
            "needs_background": "light"
          }
        },
        {
          "output_type": "display_data",
          "data": {
            "text/plain": [
              "<Figure size 864x288 with 2 Axes>"
            ],
            "image/png": "[encoded data removed]"
          },
          "metadata": {
            "needs_background": "light"
          }
        },
        {
          "output_type": "display_data",
          "data": {
            "text/plain": [
              "<Figure size 864x288 with 2 Axes>"
            ],
            "image/png": "[encoded data removed]"
          },
          "metadata": {
            "needs_background": "light"
          }
        }
      ]
    },
    {
      "cell_type": "markdown",
      "metadata": {
        "id": "c-yr-PO-kAQV"
      },
      "source": [
        "**RESPOSTA** (VALE 0.5 pontos): \n",
        "- Primeiramente foi possível ver que nos dois grupos a maioria dos clientes são de origem de hotel, restaurante ou café. Logo na segunda coluna podemos perceber que todos os clientes do cluster A são da região de Lisboa e todos os clientes do cluster B são da região do porto, logo este é, com certeza, o ponto em comum dos clusters.\n",
        "- Podemos ver também que os valores dos clusters não são nada parecidos, em alguns momentos a média é bem mais alta do cluster A e em outros é o cluster B que tem as maiores médias. Isso fica mais visivel ainda com a ajuda dos gráficos de boxplot.\n"
      ]
    },
    {
      "cell_type": "markdown",
      "metadata": {
        "id": "78p--zzqkAQW"
      },
      "source": [
        "Sendo dois agrupamentos distintos, qual rotulo poderiamos utilizar para identifica-los? Justifique a sua resposta"
      ]
    },
    {
      "cell_type": "markdown",
      "metadata": {
        "id": "GGlaFT14kAQW"
      },
      "source": [
        "**RESPOSTA** (VALE 0.5 pontos): Neste caso aqui, com toda certeza podemos utilizar a região para identifica-los. Para o ClusterA identificamos como os clientes sendo proveniêntes da região de Lisboa, e para o ClusterB identificamos os cliêntes sendo da região do Oporto."
      ]
    },
    {
      "cell_type": "markdown",
      "metadata": {
        "id": "28A281SskAQW"
      },
      "source": [
        "# Exercicio 3. (3 pontos)\n",
        "\n",
        "Responda, quais são as vantagens e desvantagens do algoritmo K-Médias?"
      ]
    },
    {
      "cell_type": "markdown",
      "metadata": {
        "id": "GlAIRtWtkAQW"
      },
      "source": [
        "**RESPOSTA** (VALE 1.0 ponto):\n",
        "- Tem o poder de classificação por grupos, podendo escolher o número de grupos(k)\n",
        "- É fácil de implementar\n",
        "- utiliza a distância para entre as variáveis para caracterizar os grupos.\n",
        "- Se adapta fácilmente a diferentes grupos e grandes conjuntos de dados.\n",
        "- X\n",
        "- É muito sensivel a outliers, um valor muito deslocado pode alterar a média das distancias muito facilmente\n",
        "- Dependendo do número de dimensões fica dificil de se replicar o modelo."
      ]
    },
    {
      "cell_type": "markdown",
      "metadata": {
        "id": "BRz03-5QkAQX"
      },
      "source": [
        "Quantos elementos há em cada clusters se o numero de clusters for igual ao total de observações?"
      ]
    },
    {
      "cell_type": "markdown",
      "metadata": {
        "id": "W7GGba_ZkAQX"
      },
      "source": [
        "**RESPOSTA** (VALE 1.0 ponto): um, se o número de clusters for igual ao total das observações, teremos um cluster para cada elemento."
      ]
    },
    {
      "cell_type": "markdown",
      "metadata": {
        "id": "uagv3rC_kAQX"
      },
      "source": [
        "Se o parametro **k** for igual a 1, quantos clusters teremos e quantos elementos há em cada cluster?"
      ]
    },
    {
      "cell_type": "markdown",
      "metadata": {
        "id": "Oct4i4CQkAQX"
      },
      "source": [
        "**RESPOSTA** (VALE 1.0 ponto): Se tivermos somente um k, teremos somente um grupo e o total de elementos será o total do conjunto de dados."
      ]
    },
    {
      "cell_type": "markdown",
      "source": [
        "A inicialização dos centroides afeta o algoritmo K-Médias?\n"
      ],
      "metadata": {
        "id": "6y44pOOv2MwJ"
      }
    },
    {
      "cell_type": "markdown",
      "source": [
        "RESPOSTA (VALE 1.0 ponto): Com toda a certeza afeta, dependendo de onde for inicializado os centroides o modelo pode demadar mais energia para chegar ao ponto ideal e muitas vezes nem chegar. A resposta pode variar de acordo com a inicialização dos centróides."
      ],
      "metadata": {
        "id": "qKWyJTjx2Omz"
      }
    }
  ],
  "metadata": {
    "kernelspec": {
      "display_name": "Python 3",
      "language": "python",
      "name": "python3"
    },
    "language_info": {
      "codemirror_mode": {
        "name": "ipython",
        "version": 3
      },
      "file_extension": ".py",
      "mimetype": "text/x-python",
      "name": "python",
      "nbconvert_exporter": "python",
      "pygments_lexer": "ipython3",
      "version": "3.8.3"
    },
    "colab": {
      "name": "Módulo 2 - Projeto 3 - Clusterização - Clusterização_de_dados_de_vendas_de_produtos",
      "provenance": [],
      "collapsed_sections": [
        "V_ZWjyR5kAPV",
        "iRoQHojLkAPW"
      ]
    }
  },
  "nbformat": 4,
  "nbformat_minor": 0
}